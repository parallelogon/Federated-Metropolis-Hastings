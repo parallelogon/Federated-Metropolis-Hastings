{
  "nbformat": 4,
  "nbformat_minor": 0,
  "metadata": {
    "colab": {
      "name": "QlsdPP.ipynb",
      "provenance": [],
      "toc_visible": true,
      "collapsed_sections": [
        "l6MWZHa5r3ch"
      ]
    },
    "kernelspec": {
      "name": "python3",
      "display_name": "Python 3"
    },
    "language_info": {
      "name": "python"
    },
    "accelerator": "GPU"
  },
  "cells": [
    {
      "cell_type": "markdown",
      "source": [
        "# QLSD++ "
      ],
      "metadata": {
        "id": "shETNdTmf_gE"
      }
    },
    {
      "cell_type": "code",
      "execution_count": null,
      "metadata": {
        "id": "tOx9YltJcpGL"
      },
      "outputs": [],
      "source": [
        "\"\"\"\n",
        "Written by Zachary Jones\n",
        "\"\"\"\n",
        "import torch\n",
        "import torchvision\n",
        "import torchvision.transforms as transforms\n",
        "import torch.nn as nn\n",
        "import torch.nn.functional as F\n",
        "from torch.utils.data import DataLoader\n",
        "import torch.optim as optim\n",
        "import numpy as np\n",
        "import matplotlib.pyplot as plt\n",
        "import copy\n",
        "\n",
        "# random seed set for reproducability, decreases performance\n",
        "np.random.seed(0)\n",
        "torch.manual_seed(0)\n",
        "torch.backends.cudnn.deterministic = True\n",
        "torch.backends.cudnn.benchmark = False"
      ]
    },
    {
      "cell_type": "markdown",
      "source": [
        "# Set-up and Data preparation"
      ],
      "metadata": {
        "id": "BoJ4SdsNgUmo"
      }
    },
    {
      "cell_type": "markdown",
      "source": [
        "## Prior and Preconditioner classes used in gradient calculation"
      ],
      "metadata": {
        "id": "dlJssRa1gG_r"
      }
    },
    {
      "cell_type": "code",
      "source": [
        "class Prior():\n",
        "  def __init__(self, model = \"gaussian\", **kwargs):\n",
        "    '''\n",
        "    Indedpendent of the form, each instantation of the 'Prior' class keeps\n",
        "    track of the model used, (gaussian etc.) and checks for parameters.\n",
        "    Each particular instantation of a model must include a 'gradLog' function\n",
        "    which returns the distribution specific gradient of the NEGATIVE log\n",
        "    liklihood.\n",
        "\n",
        "    This is used as part of the gradient calculation for bayesian learning\n",
        "    '''\n",
        "    self.model = model\n",
        "    self.params = kwargs.get(\"params\", None)\n",
        "\n",
        "    if self.params == None:\n",
        "      raise ValueError(\"Something has gone horribly wrong: invalid parameters\")\n",
        "\n",
        "  def __name__(self):\n",
        "    return self.__class__.__name__\n",
        "    \n",
        "  def to(self,device):\n",
        "    self.device = device\n",
        "\n",
        "\n",
        "      \n",
        "class Gaussian(Prior):\n",
        "  def __init__(self, mean = 0.0, sig = 0.1):\n",
        "    super(Gaussian, self).__init__(\"gaussian\", params = {\"mean\": mean, \"sig\": sig})\n",
        "    self.mean = torch.tensor([mean])\n",
        "    self.sig = torch.tensor([sig])\n",
        "\n",
        "  def prior(self, theta):\n",
        "\n",
        "    logPrior = torch.norm(theta - self.mean)\n",
        "    logPrior=-logPrior*logPrior/(2*self.sig**2)\\\n",
        "    -.5*torch.log(2*torch.pi*self.sig**2)*len(theta)\n",
        "\n",
        "    gradLogPrior = (theta - self.mean)/self.sig**2\n",
        "\n",
        "    self.logPrior = logPrior\n",
        "    self.gradLogPrior = gradLogPrior\n",
        "\n",
        "    return(logPrior, gradLogPrior)\n",
        "\n",
        "\n",
        "  # optimize the negative log liklihood later in the model, so this is the grad\n",
        "  # of the negative log prior\n",
        "  def grad_log(self, theta):\n",
        "    return (theta - self.mean)/self.sig**2\n",
        "\n",
        "  def to(self,device):\n",
        "    self.device = device\n",
        "    self.mean = self.mean.to(device)\n",
        "    self.sig = self.sig.to(device)\n",
        "\n",
        "\n",
        "# Assuming normally distributed weights this is the conjugate prior.\n",
        "class InverseGamma(Prior):\n",
        "  def __init__(self, alpha = 0.01, beta = 0.01):\n",
        "    super(InverseGamma, self).__init__(\"inv_gamma\", params = {\"alpha\" : alpha,\n",
        "                                                              \"beta\": beta})\n",
        "    self.alpha = alpha\n",
        "    self.beta = beta\n",
        "\n",
        "  def __name__(self):\n",
        "    return \"InverseGamma\"\n",
        "\n",
        "  def prior(self, theta):\n",
        "    logPrior = self.alpha * torch.log(self.beta) - (self.alpha + 1) \\\n",
        "    * torch.log(theta) - self.beta/theta - torch.lgamma(self.alpha)\n",
        "\n",
        "    gradLogPrior = -(self.alpha + 1)/theta + self.beta/theta**2\n",
        "    return(logPrior, gradLogPrior)\n",
        "    \n",
        "  def grad_log(self, theta):\n",
        "    gradLogPrior = -(self.alpha + 1)/theta + self.beta/theta**2\n",
        "    return gradLogPrior\n",
        "\n",
        "  def to(self,device):\n",
        "    self.device = device\n",
        "    self.alpha = torch.tensor([self.alpha]).to(device)\n",
        "    self.beta = torch.tensor([self.beta]).to(device)"
      ],
      "metadata": {
        "id": "suTmCIb3cv-A"
      },
      "execution_count": null,
      "outputs": []
    },
    {
      "cell_type": "code",
      "source": [
        "from math import sqrt\n",
        "from scipy.linalg import fractional_matrix_power\n",
        "\n",
        "class Preconditioner():\n",
        "  def __init__(self, d1, d2):\n",
        "    '''\n",
        "    As the preconditioner must operate on both weights and biases in the model\n",
        "    according to their dimension, which are unknown before hand, they are set\n",
        "    at instantation.  Using 'torch.Einsum('ij, i...', A, sample)', allows for\n",
        "    both speed and flexibility in the form of the inner product (biases are kept\n",
        "    by pytorch as 1d tensors so matmul operations cannot be used)\n",
        "\n",
        "    Each 'Preconditioner' must have an 'Apply' and 'Sample' function, which are\n",
        "    used at different stages of gradient calculation.\n",
        "    \n",
        "    Apply : return an (N_out x N_out matrix) with N_out beind the output\n",
        "    dimension of the layer\n",
        "\n",
        "    Sample: Return an N_out x N_out matrix which has been multiplied by a matrix\n",
        "    of iid random normal samples with dimension (N_out x N_in) (the same as the\n",
        "    weights)\n",
        "    '''\n",
        "    if d2:\n",
        "      self.type = 'weight'\n",
        "      self.input_size = d2\n",
        "\n",
        "    else:\n",
        "      self.input_size = 1\n",
        "      self.type = \"bias\"\n",
        "\n",
        "    self.output_size = d1\n",
        "    self.C = torch.eye(d1)\n",
        "    self.A = torch.eye(d1)\n",
        "\n",
        "\n",
        "  def update(self, grad):\n",
        "    pass\n",
        "\n",
        "  def to(self, device):\n",
        "    self.C = self.C.to(device)\n",
        "    self.A = self.A.to(device)\n",
        "    self.device = device\n",
        "    return self\n",
        "\n",
        "# Euclidean preconditioner for use in gradient step does not change the\n",
        "# distribution of the weights.  \n",
        "class Euclidean(Preconditioner):\n",
        "  def __init__(self, d1, d2 = None):\n",
        "    super(Euclidean, self).__init__(d1, d2)\n",
        "\n",
        "  def apply(self):\n",
        "    return self.C\n",
        "\n",
        "  def sample(self):\n",
        "    if self.type == 'weight':\n",
        "      sample = torch.randn(self.output_size, self.input_size).to(self.device)\n",
        "    else:\n",
        "      sample = torch.randn(self.output_size).to(self.device)\n",
        "\n",
        "    # use torch.einsum instead of distinguishing between bias and weight terms,\n",
        "    # not particularly slow.\n",
        "    return(torch.einsum(\"ij,j... -> i...\",self.A, sample))\n",
        "\n",
        "\n",
        "# RMSProp preconditioner corresponds to giving each weight a seperate learning\n",
        "# rate\n",
        "class RMSProp(Preconditioner):\n",
        "  def __init__(self, d1, d2 = None, decay_rate = .5, regularizer = 1e-7):\n",
        "    super(RMSProp, self).__init__(d1, d2)\n",
        "    self.decay_rate = decay_rate\n",
        "    self.regularizer = regularizer\n",
        "\n",
        "  @torch.no_grad()\n",
        "  def update(self,grad):\n",
        "    if self.type == \"weight\":\n",
        "      g_sq = torch.einsum(\"ij,ij->i\",grad,grad).diag()\n",
        "\n",
        "    else:\n",
        "      g_sq = torch.mul(grad,grad)\n",
        "\n",
        "    self.C.mul_(1.0 - self.decay_rate).add_(g_sq, alpha = self.decay_rate)\n",
        "\n",
        "\n",
        "    local_time = 1./(self.decay_rate**2) + 1.0\n",
        "    self.decay_rate = 1.0/sqrt(local_time)\n",
        "\n",
        "  def apply(self):\n",
        "    c = ((self.C.diag() + self.regularizer).pow(-0.5)).diag()\n",
        "    return c\n",
        "\n",
        "  def sample(self):\n",
        "    if self.type == 'weight':\n",
        "      sample = torch.randn(self.output_size, self.input_size).to(self.device)\n",
        "    else:\n",
        "      sample = torch.randn(self.output_size).to(self.device)\n",
        "\n",
        "    c = ((self.C.diag() + self.regularizer).pow(-0.25)).diag()\n",
        "    return(torch.einsum(\"ij,j... -> i...\",c , sample))\n",
        "\n",
        "  def to(self, device):\n",
        "    self.A = self.A.to(device)\n",
        "    self.C = self.C.to(device)\n",
        "    self.device = device\n",
        "    self.regularizer = torch.tensor([self.regularizer]).to(device)\n",
        "    return(self)\n",
        "\n",
        "\n",
        "# Adam preconditioner corresponds to giving each weight a seperate learning\n",
        "# rate\n",
        "class Adam(Preconditioner):\n",
        "  def __init__(self, d1, d2 = None, decay_rate = .5, regularizer = 1e-7):\n",
        "    super(Adam, self).__init__(d1, d2)\n",
        "    self.decay_rate = decay_rate\n",
        "    self.regularizer = regularizer\n",
        "\n",
        "  @torch.no_grad()\n",
        "  def update(self,grad):\n",
        "    if self.type == \"weight\":\n",
        "      g_sq = torch.einsum(\"ij,ij->i\",grad,grad).diag()\n",
        "\n",
        "    else:\n",
        "      g_sq = torch.mul(grad,grad)\n",
        "\n",
        "    g = g_sq.sqrt()\n",
        "\n",
        "    self.C.mul_(1.0 - self.decay_rate).add_(g_sq, alpha = self.decay_rate)\n",
        "    self.A.mul_(1.0 - .9/.99*self.decay_rate).add_(g, alpha = .9/.99*self.decay_rate)\n",
        "\n",
        "\n",
        "    local_time = 1./(self.decay_rate**2) + 1.0\n",
        "    self.decay_rate = 1.0/sqrt(local_time)\n",
        "\n",
        "  def apply(self):\n",
        "    c = (self.A.diag()*((self.C.diag() + self.regularizer).pow(-0.5))).diag()\n",
        "    return c\n",
        "\n",
        "  def sample(self):\n",
        "    if self.type == 'weight':\n",
        "      sample = torch.randn(self.output_size, self.input_size).to(self.device)\n",
        "    else:\n",
        "      sample = torch.randn(self.output_size).to(self.device)\n",
        "\n",
        "    c = (self.A.diag().pow(.5)*((self.C.diag() + self.regularizer).pow(-0.25))).diag()\n",
        "    return(torch.einsum(\"ij,j... -> i...\",c , sample))\n",
        "\n",
        "  def to(self, device):\n",
        "    self.A = self.A.to(device)\n",
        "    self.C = self.C.to(device)\n",
        "    self.device = device\n",
        "    self.regularizer = torch.tensor([self.regularizer]).to(device)\n",
        "    return(self)\n",
        "\n",
        "\n",
        "# inverting the fisher information matrix is extremely espensive, restrict to\n",
        "# smaller models.  Fisher information gives the curvature around the gradient\n",
        "# estimator and yields Amari's natural gradient\n",
        "class Fisher(Preconditioner):\n",
        "  def __init__(self, d1, d2 = None, decay_rate = .1, regularizer = 1e-7):\n",
        "    super(Fisher, self).__init__(d1, d2)\n",
        "    self.decay_rate = decay_rate\n",
        "    self.regularizer = regularizer\n",
        "\n",
        "  @torch.no_grad()\n",
        "  def update(self, grad):\n",
        "    self.C.mul_(1.0 - self.decay_rate)\n",
        "\n",
        "    if self.type != 'weight':\n",
        "      grad = grad.unsqueeze(-1)\n",
        "\n",
        "    self.C.add_(torch.matmul(grad, grad.T),alpha = self.decay_rate)\n",
        "\n",
        "    local_time = 1.0/self.decay_rate + 1.0\n",
        "    self.decay_rate = 1.0/sqrt(local_time)\n",
        "\n",
        "  def apply(self):\n",
        "    return torch.linalg.inv(torch.add(self.C,\n",
        "                                      torch.eye(self.output_size).to(self.device),\n",
        "                                      alpha = self.regularizer))\n",
        "\n",
        "  def sample(self):\n",
        "    if self.type == \"weight\":\n",
        "      sample = torch.randn(self.output_size, self.input_size).to(self.device)\n",
        "    else:\n",
        "      sample = torch.randn(self.output_size).to(self.device)\n",
        "    \n",
        "    pre = torch.add(self.C, torch.eye(self.output_size).to(device), \\\n",
        "                    alpha = self.regularizer)\n",
        "    \n",
        "    # find a better matrix square root algo this is slow and cumbersome\n",
        "    return torch.linalg.solve(\n",
        "        torch.from_numpy(\n",
        "            fractional_matrix_power(\n",
        "                pre.cpu(), 0.5)).to(torch.float).to(self.device), sample)\n",
        "\n",
        "  def to(self, device):\n",
        "    self.device = device\n",
        "    self.A = self.A.to(device)\n",
        "    self.C = self.C.to(device)\n",
        "    return(self)\n",
        "\n",
        "# The quasi diagonal cholesky decomposition of the inverse fisher information \n",
        "# agrees with the inverse fisher information matrix on the diagonals and the \n",
        "# first row.  Use this as an approximation of the fisher info for larger models.\n",
        "class QDC(Preconditioner):\n",
        "  def __init__(self, d1, d2 = None, decay_rate = .5, regularizer = 1e-6):\n",
        "    super(QDC,self).__init__(d1,d2)\n",
        "    self.decay_rate = decay_rate\n",
        "    self.regularizer = regularizer\n",
        "\n",
        "  @torch.no_grad()\n",
        "  def update(self, grad):\n",
        "    self.C.mul_(1.0 - self.decay_rate)\n",
        "\n",
        "\n",
        "    '''\n",
        "    if self.type == \"weight\":\n",
        "      g_row = torch.matmul(grad[0,:], grad.T)\n",
        "      g_diag = torch.einsum(\"ij,ji -> i\", grad, grad.T).diag()\n",
        "\n",
        "    else:\n",
        "      grad_unsqueezed = torch.unsqueeze(grad,-1)\n",
        "      g_row = torch.mul(grad[0], grad_unsqueezed.T)\n",
        "      g_diag = torch.mul(grad, grad).diag()\n",
        "    '''\n",
        "\n",
        "    if self.type != 'weight':\n",
        "      grad = grad.unsqueeze(-1)\n",
        "\n",
        "    g = torch.matmul(grad, grad.T)\n",
        "    g_diag = g.diag()\n",
        "    g_row = g[0,:]\n",
        "\n",
        "    g_factor = g_diag.diag()\n",
        "    g_factor[0,:] = g_row\n",
        "\n",
        "    self.C.add_(g_factor, alpha = self.decay_rate)\n",
        "\n",
        "    self.A = torch.zeros_like(self.A)\n",
        "\n",
        "    a00 = torch.add(self.C[0,0], self.regularizer).pow(-0.5)\n",
        "    self.A[0,0] = a00\n",
        "\n",
        "    if a00.isnan():\n",
        "      print(a00)\n",
        "\n",
        "    for i in range(1,len(self.A)):\n",
        "      a00C0i = torch.mul(a00,self.C[0,i]).pow(2)\n",
        "\n",
        "\n",
        "      if a00C0i.isnan():\n",
        "        print(a00, self.C[0,i])\n",
        "        raise ValueError('nan')\n",
        "\n",
        "      Ciia00C0i = torch.add(self.C[i,i], a00C0i, alpha = -1.0)\n",
        "\n",
        "      \n",
        "      if Ciia00C0i.isnan():\n",
        "        print(self.C[i,i], a00C0i)\n",
        "        raise ValueError('nan')\n",
        "\n",
        "      self.A[i,i] = torch.pow(Ciia00C0i + self.regularizer, -0.5)\n",
        "\n",
        "      AiiC0i = self.A[i,i].mul(self.C[0,i])\n",
        "\n",
        "      \n",
        "      if AiiC0i.isnan():\n",
        "        print(self.A[i,i], self.C[0,i])\n",
        "        raise ValueError('nan')\n",
        "\n",
        "      self.A[0,i] = torch.mul(-(a00.pow(2)), AiiC0i)\n",
        "\n",
        "    local_time = 1.0/self.decay_rate + 1.0\n",
        "    self.decay_rate = 1.0/sqrt(local_time)\n",
        "\n",
        "  def apply(self):\n",
        "    if self.A.isnan().any():\n",
        "      print(self.A)\n",
        "      raise ValueError('dicks')\n",
        "\n",
        "    return self.A.matmul(self.A.T)\n",
        "\n",
        "  def sample(self):\n",
        "    if self.type == \"weight\":\n",
        "      sample = torch.randn(self.output_size, self.input_size).to(self.device)\n",
        "    else:\n",
        "      sample = torch.randn(self.output_size).to(self.device)\n",
        "\n",
        "    return(torch.einsum(\"ij,j... -> i...\", self.A, sample))\n",
        "\n",
        "  def to(self, device):\n",
        "    self.device = device\n",
        "    self.A = self.A.to(device)\n",
        "    self.C = self.C.to(device)\n",
        "    return(self)"
      ],
      "metadata": {
        "id": "Vos-MoJedJ2O"
      },
      "execution_count": null,
      "outputs": []
    },
    {
      "cell_type": "markdown",
      "source": [
        "## Dataset: MNIST"
      ],
      "metadata": {
        "id": "0RupSZ3sf6du"
      }
    },
    {
      "cell_type": "code",
      "source": [
        "MNIST = torchvision.datasets.MNIST(root = \".\", \n",
        "                                   train = True,\n",
        "                                   download = True)\n",
        "\n",
        "output_dimension = len(MNIST.classes)\n",
        "input_dimension = len(MNIST.data[0])**2\n",
        "batch_size = 100"
      ],
      "metadata": {
        "id": "dxRJlQ6Ugicb"
      },
      "execution_count": null,
      "outputs": []
    },
    {
      "cell_type": "code",
      "source": [
        "MNIST.data[0].shape"
      ],
      "metadata": {
        "colab": {
          "base_uri": "https://localhost:8080/"
        },
        "id": "wlxSUVeJkxWm",
        "outputId": "da3e4978-4238-47c7-e374-393f09600814"
      },
      "execution_count": null,
      "outputs": [
        {
          "output_type": "execute_result",
          "data": {
            "text/plain": [
              "torch.Size([28, 28])"
            ]
          },
          "metadata": {},
          "execution_count": 5
        }
      ]
    },
    {
      "cell_type": "code",
      "source": [
        "MNIST.targets[0]"
      ],
      "metadata": {
        "id": "FTCaB9D3k6Uu",
        "outputId": "eb1fc528-5a0f-4eba-8e4f-d6cfd848321e",
        "colab": {
          "base_uri": "https://localhost:8080/"
        }
      },
      "execution_count": null,
      "outputs": [
        {
          "output_type": "execute_result",
          "data": {
            "text/plain": [
              "tensor(5)"
            ]
          },
          "metadata": {},
          "execution_count": 6
        }
      ]
    },
    {
      "cell_type": "markdown",
      "source": [
        "## Data Structure\n",
        "\n",
        "A thoughtful datastructure simpliefies the minimization, since the whole gradient must be \n",
        "\n",
        "calculated periodically and individual gradient samples must be matched in a variance\n",
        "\n",
        "reduction technique."
      ],
      "metadata": {
        "id": "VbRu93TAgnE2"
      }
    },
    {
      "cell_type": "code",
      "source": [
        "class CycleSplitData(torch.utils.data.Dataset):\n",
        "  def __init__(self, dataset, k, transform = None):\n",
        "    '''\n",
        "    The dataset given to each virtual submodel is kept in a list of k tuples\n",
        "    corresponding to the local dataset each with a data tensor of dimension \n",
        "    (N_k, d), their corresponding labels, and the index of the data point.\n",
        "    This allows for the index of points used to be passed to the model for\n",
        "    individual gradient evaluations.\n",
        "\n",
        "    Images are accessed as handle[i, j][0] with image j of partition i\n",
        "    Their corresponding target as handle [i, j][1]\n",
        "    The index as [i, j][2]\n",
        "    '''\n",
        "\n",
        "    N = len(dataset)\n",
        "\n",
        "    splits = np.random.choice(k, N, replace = True)\n",
        "    partition_sizes = [np.sum(splits == i) for i in range(k)]\n",
        "    indices = [torch.arange(partition_sizes[i]) for i in range(k)]\n",
        "\n",
        "    partition_sizes = [0] + partition_sizes\n",
        "    partition_boundaries = np.cumsum(partition_sizes)\n",
        "\n",
        "\n",
        "    if transform is None:\n",
        "      split_data = [dataset.data[partition_boundaries[i]:partition_boundaries[i+1],:,:]\\\n",
        "                    for i in range(len(partition_boundaries)-1)]\n",
        "    else:\n",
        "      split_data = [dataset.data[partition_boundaries[i]:partition_boundaries[i+1],:,:]\\\n",
        "                    for i in range(len(partition_boundaries)-1)]   \n",
        "\n",
        "    split_targets = [dataset.targets[partition_boundaries[i]:partition_boundaries[i+1]]\\\n",
        "                  for i in range(len(partition_boundaries)-1)]\n",
        "\n",
        "    self.N = max(partition_sizes)\n",
        "\n",
        "    self.k = k\n",
        "\n",
        "    self.data = split_data\n",
        "\n",
        "    self.targets = split_targets\n",
        "\n",
        "    self.indices = indices\n",
        "\n",
        "    self.partition_sizes = partition_sizes[1:]\n",
        "\n",
        "    self.transform = transform\n",
        "\n",
        "  def __getitem__(self, idx):\n",
        "\n",
        "    if self.transform:\n",
        "      data = self.transform(self.data[idx[0]][idx[1],:,:])\n",
        "\n",
        "    else:\n",
        "      data = self.data[idx[0]][idx[1],:,:].to(torch.float)\n",
        "\n",
        "    return (data,\n",
        "            self.targets[idx[0]][idx[1]],\n",
        "            self.indices[idx[0]][idx[1]])\n",
        "\n",
        "    \n",
        "  def __len__(self):\n",
        "    return self.N\n",
        "\n",
        "  def shuffle(self):\n",
        "    for i in range(self.k):\n",
        "      n = len(self.indices[i])\n",
        "      perm = np.random.choice(n,n, replace = False)\n",
        "\n",
        "      self.data[i] = self.data[i][perm,:,:]\n",
        "      self.targets[i] = self.targets[i][perm]\n",
        "      self.indices[i] = torch.from_numpy(perm)\n",
        "\n",
        "  def sample(self, N = None):\n",
        "    if N == None:\n",
        "\n",
        "      if self.transform:\n",
        "        data =[self.transform(data) for data in self.data]\n",
        "      else:\n",
        "        data = [data.to(torch.float) for data in self.data]\n",
        "        \n",
        "      return (data,\n",
        "              self.targets,\n",
        "              self.indices)\n",
        "\n",
        "    else:\n",
        "      data = []\n",
        "      targets = []\n",
        "      indices = []\n",
        "\n",
        "      for i in range(self.k):\n",
        "        n = len(self.indices[i])\n",
        "        perm = np.random.choice(n, N)\n",
        "\n",
        "        if self.transform:\n",
        "          data_i = self.transform(self.data[i][perm, :, :])\n",
        "        else:\n",
        "          data_i = self.data[i][perm, :, :].to(torch.float)\n",
        "          \n",
        "        data.append(data_i)\n",
        "        targets.append(self.targets[i][perm])\n",
        "        indices.append(self.indices[i][perm])\n",
        "\n",
        "      return(data, targets, indices)\n"
      ],
      "metadata": {
        "id": "b28q0RDNgtGy"
      },
      "execution_count": null,
      "outputs": []
    },
    {
      "cell_type": "markdown",
      "source": [
        "## Per-sample gradients: Use Opacus Library"
      ],
      "metadata": {
        "id": "t_VAn1GHqkGb"
      }
    },
    {
      "cell_type": "code",
      "source": [
        "!pip install opacus\n",
        "from opacus.grad_sample import GradSampleModule"
      ],
      "metadata": {
        "colab": {
          "base_uri": "https://localhost:8080/"
        },
        "id": "MK5F9GeVqZ25",
        "outputId": "53f85478-3f0c-45d0-bddf-becc40304c34"
      },
      "execution_count": null,
      "outputs": [
        {
          "output_type": "stream",
          "name": "stdout",
          "text": [
            "Looking in indexes: https://pypi.org/simple, https://us-python.pkg.dev/colab-wheels/public/simple/\n",
            "Requirement already satisfied: opacus in /usr/local/lib/python3.7/dist-packages (1.1.2)\n",
            "Requirement already satisfied: torch>=1.8 in /usr/local/lib/python3.7/dist-packages (from opacus) (1.11.0+cu113)\n",
            "Requirement already satisfied: scipy>=1.2 in /usr/local/lib/python3.7/dist-packages (from opacus) (1.4.1)\n",
            "Requirement already satisfied: numpy>=1.15 in /usr/local/lib/python3.7/dist-packages (from opacus) (1.21.6)\n",
            "Requirement already satisfied: typing-extensions in /usr/local/lib/python3.7/dist-packages (from torch>=1.8->opacus) (4.1.1)\n"
          ]
        }
      ]
    },
    {
      "cell_type": "markdown",
      "source": [
        "## Gradient Compression"
      ],
      "metadata": {
        "id": "Sd08Mc55qqOp"
      }
    },
    {
      "cell_type": "code",
      "source": [
        "def quantize(v, s):\n",
        "\n",
        "  # Different operations required for different gradient dimensions (weights vs\n",
        "  # biases)\n",
        "  \n",
        "  if len(v.shape) > 1:\n",
        "    v_norm = v.norm(dim = 1)\n",
        "    \n",
        "    l = torch.einsum(\"ij, i-> ij\", v.abs().mul(s), v_norm.pow(-1))\n",
        "    deterministic_part = torch.einsum(\"ij,i-> ij\", v.sign(), v_norm).div(s)\n",
        "\n",
        "  else:\n",
        "    v_norm = v.norm()\n",
        "\n",
        "    l = v.abs().mul(s).div(v_norm)\n",
        "    deterministic_part = v_norm.mul(v.sign()).div(s)\n",
        "\n",
        "  random_part = l.floor().add(torch.rand_like(v).le(torch.add(l, l.floor(), alpha = -1)).mul(1.0))\n",
        "  out = deterministic_part.mul(random_part)\n",
        "  \n",
        "  # If the gradient is zero in some dimensions it will result in NaNs due to the\n",
        "  # normalization above. These points should be kept as Zeros.\n",
        "  out[out.isnan()] = 0.\n",
        "  \n",
        "  return(out)"
      ],
      "metadata": {
        "id": "W7hfO2w_quI1"
      },
      "execution_count": null,
      "outputs": []
    },
    {
      "cell_type": "markdown",
      "source": [
        "# Optimizer objects\n",
        "\n",
        "In order to streamline training, the QLSD++ algorithm is split into two parts\n",
        "an optimizer object meant to load onto local agents and a counterpart for the\n",
        "central server."
      ],
      "metadata": {
        "id": "IY6e9rTlrOwc"
      }
    },
    {
      "cell_type": "markdown",
      "source": [
        "TODO:\n",
        "-Investigate this warning\n",
        "/usr/local/lib/python3.7/dist-packages/torch/nn/modules/module.py:1025: UserWarning: Using a non-full backward hook when the forward contains multiple autograd Nodes is deprecated and will be removed in future versions. This hook will be missing some grad_input. Please use register_full_backward_hook to get the documented behavior. warnings.warn(\"Using a non-full backward hook when the forward contains multiple autograd Nodes \"\n"
      ],
      "metadata": {
        "id": "DrvHBm-urMBf"
      }
    },
    {
      "cell_type": "markdown",
      "source": [
        "## Local QLSD Optimizer"
      ],
      "metadata": {
        "id": "l6MWZHa5r3ch"
      }
    },
    {
      "cell_type": "code",
      "source": [
        "from torch._C import parse_schema\n",
        "import torch\n",
        "from torch.optim.optimizer import Optimizer, required\n",
        "import math\n",
        "\n",
        "class QlsdPPLocal(Optimizer):\n",
        "  '''\n",
        "  Local model which does not modify parameters during a \"step\" phase, only\n",
        "  modifying the gradients of the parameters to be aggregated later in a\n",
        "  step of the central model.  Each distributed model will has its own associated\n",
        "  optimizer which manages layerwise operations and gradient calculations.\n",
        "  '''\n",
        "\n",
        "  def __init__(self, params,\n",
        "               prior = Gaussian(0,.1), \n",
        "               N = required,\n",
        "               l = required,\n",
        "               s = required):\n",
        "\n",
        "    if not prior:\n",
        "      raise ValueError(\"No prior specified\")\n",
        "\n",
        "    if N is not required and N < 0:\n",
        "      raise ValueError(\"Need the size of the local dataset\")\n",
        "\n",
        "    if l is not required and (l < 0 or l % 1 != 0):\n",
        "      raise ValueError(\"Control variable periodicity must be a nonnegative integer\")\n",
        "\n",
        "    if s is not required and (s < 0 or s % 1 != 0):\n",
        "      raise ValueError('Quantization must be a nonnegative integer')\n",
        "\n",
        "    defaults = dict(prior = prior,\n",
        "                    N = N,\n",
        "                    eta = [],\n",
        "                    alpha = [],\n",
        "                    Uzeta = [],\n",
        "                    Uzeta_ij = [],\n",
        "                    l = l,\n",
        "                    s = s)\n",
        "    \n",
        "    super(QlsdPPLocal, self).__init__(params, defaults)\n",
        "\n",
        "    for group in self.param_groups:\n",
        "      # Memory term used in quantization to reduce error\n",
        "      eta = []\n",
        "\n",
        "      # memory term learning rate\n",
        "      # alpha should be initialized as 1/(omega + 1) as in the paper\n",
        "      # omega = min(min(d/s2, √d/s) with d the dimension of the gradient\n",
        "      alpha = []\n",
        "\n",
        "      # initialize all these values after p has been stored as a parameter\n",
        "      with torch.no_grad():\n",
        "        for p in group[\"params\"]:\n",
        "          eta.append(torch.zeros_like(p).to(p.device))\n",
        "          d = p.shape[-1]\n",
        "          alpha.append(1/(1 + min(d/(s**2), math.sqrt(d)/s)))\n",
        "\n",
        "        group['eta'] = eta\n",
        "        group['alpha'] = alpha\n",
        "\n",
        "        # stores the individual samples for the whole gradient, has a shape\n",
        "        # B x g where B is the batch size and g is the dimensions of the \n",
        "        # gradient tensor\n",
        "        group['Uzeta_ij'] = []\n",
        "        group['Uzeta'] = []\n",
        "\n",
        "    self.param_groups[0][\"prior\"].to(self.param_groups[0][\"params\"][0].device)\n",
        "\n",
        "  def __setstate__(self, state):\n",
        "    super(QlsdPPLocal, self).__setstate__(state)\n",
        "\n",
        "  @torch.no_grad()\n",
        "  def step(self, t, indices, closure=None):\n",
        "\n",
        "    # legacy code, not used but could be\n",
        "    loss = None\n",
        "    if closure is not None:\n",
        "      with torch.enable_grad():\n",
        "        loss = closure()\n",
        "\n",
        "    for group in self.param_groups:\n",
        "      prior = group['prior']\n",
        "      N = group['N']\n",
        "      s = group['s']\n",
        "      eta = group['eta']\n",
        "      Uzeta = group['Uzeta']\n",
        "      alpha = group['alpha']\n",
        "      Uzeta_ij = group['Uzeta_ij']\n",
        "      l = group['l']\n",
        "\n",
        "      for i, p in enumerate(group['params']):\n",
        "\n",
        "        if p.grad_sample is not None:\n",
        "          if p.grad is not None:\n",
        "            if t % l == 0:\n",
        "              d_p_full = p.grad_sample.add(prior.grad_log(p), alpha = 1.0/N)\n",
        "              d_p = d_p_full.sum(dim = 0)\n",
        "\n",
        "              if t == 0:\n",
        "                Uzeta_ij.append(d_p_full)\n",
        "                Uzeta.append(d_p)\n",
        "\n",
        "              # if t % l = 0 and t != 0 one doesn't have to build the grad\n",
        "              else:\n",
        "                Uzeta_ij[i] = d_p_full\n",
        "                Uzeta[i] = d_p\n",
        "\n",
        "            else: \n",
        "              assert len(indices) <= len(Uzeta_ij[i]), \"\"\"Cannot index over the \n",
        "              number of samples\"\"\"\n",
        "\n",
        "              p.grad_sample.add_(prior.grad_log(p), alpha = 1.0/N)\n",
        "\n",
        "              g_diff = torch.mean(\n",
        "                  p.grad_sample.add(Uzeta_ij[i][indices,...], alpha = -1.0), dim = 0)\n",
        "              \n",
        "              d_p = torch.add(Uzeta[i], g_diff, alpha = 1.0*N)\n",
        "\n",
        "            d_p.add_(eta[i], alpha = -1.0)\n",
        "\n",
        "            if s is not None:\n",
        "              p.grad = quantize(d_p, s)\n",
        "            else:\n",
        "              p.grad = d_p\n",
        "\n",
        "            # test code, check if gradient minimizes loss function, uncomment\n",
        "            # along with below to see\n",
        "            # p.add_(p.grad, alpha = -.005)\n",
        "\n",
        "            eta[i].add_(p.grad, alpha = alpha[i])\n",
        "\n",
        "    return loss"
      ],
      "metadata": {
        "id": "BJMq_-nXrkNf"
      },
      "execution_count": null,
      "outputs": []
    },
    {
      "cell_type": "code",
      "source": [
        "'''\n",
        "x1 = torch.randn(50,2)\n",
        "x2 = torch.randn(50,2)+ 100\n",
        "x = torch.vstack((x1, x2))\n",
        "x = (x - x.mean(dim = 0))/x.std(dim = 0)\n",
        "y = torch.vstack((torch.ones(x1.shape[0],1), torch.zeros(x2.shape[0],1)))\n",
        "perm = np.random.choice(100, 100, replace = False)\n",
        "print(x.shape)\n",
        "print(y.shape)\n",
        "X = x[perm,:]\n",
        "Y = y[perm,:].squeeze()\n",
        "\n",
        "indices = torch.arange(100)\n",
        "loss_criterion = torch.nn.CrossEntropyLoss()\n",
        "fc = nn.Linear(2,2)\n",
        "fc = GradSampleModule(fc)\n",
        "optimizer = QlsdPPLocal(fc.parameters(),\n",
        "                        prior = Gaussian(0,0.1),\n",
        "                        N = 100,\n",
        "                        l = 20,\n",
        "                        s = 1)\n",
        "l = 20\n",
        "weight_grads = []\n",
        "bias_grads = []\n",
        "training_loss = []\n",
        "for t in range(2000):\n",
        "  optimizer.zero_grad()\n",
        "\n",
        "  if t % l == 0:\n",
        "    x = X\n",
        "    y = Y\n",
        "    sample = indices\n",
        "  else:\n",
        "    sample = np.random.choice(100, 20, replace = False)\n",
        "    x = X[sample,:]\n",
        "    y = Y[sample]\n",
        "\n",
        "  fc.zero_grad()\n",
        "  y_hat = fc(x)\n",
        "  if y_hat.isnan().any():\n",
        "    print('Nan')\n",
        "    break\n",
        "  loss = loss_criterion(y_hat, y.to(torch.long))\n",
        "  loss.backward()\n",
        "  optimizer.step(t, sample)\n",
        "  for name, param in fc.named_parameters():\n",
        "    if \"weight\" in name:\n",
        "      weight_grads.append(param.grad.norm())\n",
        "    else:\n",
        "      bias_grads.append(param.grad.norm())\n",
        "  training_loss.append(loss.item())\n",
        "  if t % 50 == 0:\n",
        "    print(t, loss.item())\n",
        "'''"
      ],
      "metadata": {
        "colab": {
          "base_uri": "https://localhost:8080/",
          "height": 128
        },
        "id": "erMTLdkLrmy2",
        "outputId": "b9f4dbf5-d659-4f6a-cdf6-9285bba21579"
      },
      "execution_count": null,
      "outputs": [
        {
          "output_type": "execute_result",
          "data": {
            "text/plain": [
              "'\\nx1 = torch.randn(50,2)\\nx2 = torch.randn(50,2)+ 100\\nx = torch.vstack((x1, x2))\\nx = (x - x.mean(dim = 0))/x.std(dim = 0)\\ny = torch.vstack((torch.ones(x1.shape[0],1), torch.zeros(x2.shape[0],1)))\\nperm = np.random.choice(100, 100, replace = False)\\nprint(x.shape)\\nprint(y.shape)\\nX = x[perm,:]\\nY = y[perm,:].squeeze()\\n\\nindices = torch.arange(100)\\nloss_criterion = torch.nn.CrossEntropyLoss()\\nfc = nn.Linear(2,2)\\nfc = GradSampleModule(fc)\\noptimizer = QlsdPPLocal(fc.parameters(),\\n                        prior = Gaussian(0,0.1),\\n                        N = 100,\\n                        l = 20,\\n                        s = 1)\\nl = 20\\nweight_grads = []\\nbias_grads = []\\ntraining_loss = []\\nfor t in range(2000):\\n  optimizer.zero_grad()\\n\\n  if t % l == 0:\\n    x = X\\n    y = Y\\n    sample = indices\\n  else:\\n    sample = np.random.choice(100, 20, replace = False)\\n    x = X[sample,:]\\n    y = Y[sample]\\n\\n  fc.zero_grad()\\n  y_hat = fc(x)\\n  if y_hat.isnan().any():\\n    print(\\'Nan\\')\\n    break\\n  loss = loss_criterion(y_hat, y.to(torch.long))\\n  loss.backward()\\n  optimizer.step(t, sample)\\n  for name, param in fc.named_parameters():\\n    if \"weight\" in name:\\n      weight_grads.append(param.grad.norm())\\n    else:\\n      bias_grads.append(param.grad.norm())\\n  training_loss.append(loss.item())\\n  if t % 50 == 0:\\n    print(t, loss.item())\\n'"
            ],
            "application/vnd.google.colaboratory.intrinsic+json": {
              "type": "string"
            }
          },
          "metadata": {},
          "execution_count": 11
        }
      ]
    },
    {
      "cell_type": "code",
      "source": [
        "'''\n",
        "plt.subplot(1,3,1)\n",
        "plt.title('Weight Gradient Norms')\n",
        "plt.plot(weight_grads)\n",
        "plt.subplot(1,3,2)\n",
        "plt.title('Bias Gradient Norms')\n",
        "plt.plot(bias_grads)\n",
        "plt.subplot(1,3,3)\n",
        "plt.title('Training Loss')\n",
        "plt.plot(training_loss)\n",
        "'''"
      ],
      "metadata": {
        "colab": {
          "base_uri": "https://localhost:8080/",
          "height": 54
        },
        "id": "AmzDoelFrqAa",
        "outputId": "e6215005-6552-4dad-ea3f-7b23da2a7868"
      },
      "execution_count": null,
      "outputs": [
        {
          "output_type": "execute_result",
          "data": {
            "text/plain": [
              "\"\\nplt.subplot(1,3,1)\\nplt.title('Weight Gradient Norms')\\nplt.plot(weight_grads)\\nplt.subplot(1,3,2)\\nplt.title('Bias Gradient Norms')\\nplt.plot(bias_grads)\\nplt.subplot(1,3,3)\\nplt.title('Training Loss')\\nplt.plot(training_loss)\\n\""
            ],
            "application/vnd.google.colaboratory.intrinsic+json": {
              "type": "string"
            }
          },
          "metadata": {},
          "execution_count": 12
        }
      ]
    },
    {
      "cell_type": "markdown",
      "source": [
        "## Central QLSD Optimizer"
      ],
      "metadata": {
        "id": "ui7AZ4WDrqJ1"
      }
    },
    {
      "cell_type": "code",
      "source": [
        "class QlsdPPCentral(Optimizer):\n",
        "\n",
        "  '''\n",
        "  Central Optimizer, the step() method takes a list of gradients and combines\n",
        "  them as should be done on the central server in the QLSD++ algorithm as\n",
        "  described in https://arxiv.org/abs/2106.00797\n",
        "  '''\n",
        "  def __init__(self, params, \n",
        "               lr=required,\n",
        "               b = required,\n",
        "               s = required,\n",
        "               preconditioner = required,\n",
        "               MALA = False):\n",
        "\n",
        "    if lr is not required and lr < 0.0:\n",
        "      raise ValueError(\"Invalid learning rate: {}\".format(lr))\n",
        "\n",
        "    if preconditioner is not required and preconditioner.__name__ not in \\\n",
        "    [\"Euclidean\",\"RMSProp\",\"Fisher\",\"QDC\",\"Adam\"]:\n",
        "      raise ValueError(\"Invalid choice of preconditioner: {}\".format(preconditioner))\n",
        "    else:\n",
        "      preconditioner = preconditioner\n",
        "\n",
        "    if b is not required and (b <= 0 or b% 1 != 0):\n",
        "      raise ValueError(\"Number of workers must be a positive integer\")\n",
        "\n",
        "    if s is not required and (s < 0 or s % 1 != 0):\n",
        "      raise ValueError('Quantization must be a nonnegative integer')\n",
        "\n",
        "    defaults = dict(lr = lr,\n",
        "                    preconditioner = preconditioner, \n",
        "                    alpha = [],\n",
        "                    eta = [],\n",
        "                    b = b,\n",
        "                    MALA = MALA)\n",
        "    \n",
        "    super(QlsdPPCentral, self).__init__(params, defaults)\n",
        "\n",
        "    for group in self.param_groups:\n",
        "      p_group = []\n",
        "      eta = []\n",
        "      alpha = []\n",
        "      for p in group[\"params\"]:\n",
        "        p_group.append(preconditioner(*p.shape).to(p.device))\n",
        "        d = p.shape[-1]\n",
        "        eta.append(torch.zeros_like(p).to(p.device))\n",
        "        alpha.append(1/(1 + min(d/(s**2), math.sqrt(d)/s)))\n",
        "\n",
        "      group['preconditioner'] = p_group  \n",
        "      group['eta'] = eta\n",
        "      group['alpha'] = alpha\n",
        "\n",
        "  def __setstate__(self, state):\n",
        "    super(QlsdPPCentral, self).__setstate__(state)\n",
        "\n",
        "  @torch.no_grad()\n",
        "  def step(self, grads, closure=None):\n",
        "\n",
        "    loss = None\n",
        "    if closure is not None:\n",
        "      with torch.enable_grad():\n",
        "        loss = closure()\n",
        "\n",
        "    for group in self.param_groups:\n",
        "      lr = group['lr']\n",
        "      preconditioner = group['preconditioner']\n",
        "      eta = group['eta']\n",
        "      alpha = group['alpha']\n",
        "      b = group['b']\n",
        "      MALA = group[\"MALA\"]\n",
        "\n",
        "      # SGD update modified\n",
        "      for i,p in enumerate(group['params']):\n",
        "\n",
        "        a = len(grads)\n",
        "        if a > 0:\n",
        "          grad = sum(grads[j][i] for j in range(len(grads)))\n",
        "          \n",
        "          p.grad = torch.add(eta[i], grad, alpha = 1.0*b/a)\n",
        "\n",
        "          eta[i].add_(grad, alpha = alpha[i])\n",
        "\n",
        "          preconditioner[i].update(p.grad)\n",
        "\n",
        "          d_p = torch.einsum(\"ij,j...-> i...\", preconditioner[i].apply(), p.grad)\n",
        "\n",
        "\n",
        "          p_proposed = p.add(d_p, alpha = -lr)\n",
        "          #p.add_(d_p, alpha = -lr)\n",
        "\n",
        "          noise = preconditioner[i].sample()\n",
        "          \n",
        "          p_proposed.add_(noise, alpha = sqrt(2.0*lr))\n",
        "          #p.add_(noise, alpha = sqrt(2.0*lr))\n",
        "\n",
        "          if not MALA:\n",
        "            p.data = p_proposed.data\n",
        "\n",
        "          else:\n",
        "\n",
        "            dtheta = p_proposed - p\n",
        "\n",
        "            dl_dtheta = -d_p.mul(dtheta)\n",
        "            A = 1 + dl_dtheta\n",
        "\n",
        "            if len(d_p.shape) == 1:\n",
        "              d_p = d_p.unsqueeze(-1)\n",
        "\n",
        "            aa = d_p.matmul(d_p.T).matmul(noise)\n",
        "            bb = noise.mul(aa)\n",
        "            B = 0.5*(dl_dtheta.add(bb, alpha = -lr))\n",
        "            A.mul_(B.exp())\n",
        "\n",
        "            A = torch.minimum(torch.ones_like(A),A)\n",
        "\n",
        "            u = torch.rand_like(A)\n",
        "\n",
        "            selector = u <= A\n",
        "            accepted = torch.where(selector)\n",
        "            rate = torch.mean(1.0*selector)\n",
        "\n",
        "            # Experimental, adjusting learning rate for optimal sampling\n",
        "            # works with ADAM and Euclidean preconditioned dynamics, is\n",
        "            # unstable with RMSProp\n",
        "            \n",
        "            if rate <= 0.55:\n",
        "              group['lr'] *= .99\n",
        "            elif rate >=.6:\n",
        "              group['lr'] *= 1.01\n",
        "\n",
        "            p.data[accepted] = p_proposed.data[accepted]\n",
        "\n",
        "    return loss"
      ],
      "metadata": {
        "id": "IXwZzUAWrqPX"
      },
      "execution_count": null,
      "outputs": []
    },
    {
      "cell_type": "markdown",
      "source": [
        "# Model Objects\n",
        "\n",
        "Keep track of all the optimizers and initiation through a model object as\n",
        "defined *below*"
      ],
      "metadata": {
        "id": "Zn9K5P9DrqUO"
      }
    },
    {
      "cell_type": "markdown",
      "source": [
        "## Central Container\n",
        "\n",
        "contains the local models and the central model/optimizer"
      ],
      "metadata": {
        "id": "ahkP0PKS2gSu"
      }
    },
    {
      "cell_type": "code",
      "source": [
        "class QlsdPP():\n",
        "  def __init__(self, model, partition_sizes, lr, s, l, preconditioner, prior,\n",
        "               device = 'cpu', MALA = True):\n",
        "\n",
        "    '''\n",
        "    Arguments:\n",
        "    model: Pytorch model object to be distributed\n",
        "    partition_sizes: list (int) with the sizes of each dataset\n",
        "    lr: (float) learning rate\n",
        "    s: (int > 0) number of quantization states\n",
        "    l: (int > 0) period of full gradient calculation\n",
        "    preconditioner: Preconditioner object (Euclidean RMSProp etc.)\n",
        "    prior: Prior object, prior distribution for weights\n",
        "\n",
        "    this class contains all models used, they can be simultaneously updated\n",
        "    using the .step() command after calculating the loss with a .loss(sample)\n",
        "    command.  Also zeros the gradient for each optimizer and zeros the individual\n",
        "    sample gradients.\n",
        "    '''\n",
        "\n",
        "    self.b = len(partition_sizes)\n",
        "    self.s = s\n",
        "    self.l = l\n",
        "\n",
        "    self.central_model = {'model': model.to(device),\n",
        "                          'optimizer': QlsdPPCentral(model.parameters(),\n",
        "                                                     lr, self.b, s,\n",
        "                                                     preconditioner,\n",
        "                                                     MALA = MALA)}\n",
        "    self.clock = 0\n",
        "\n",
        "\n",
        "    submodels = []\n",
        "    for partition in partition_sizes:\n",
        "\n",
        "      submodel = copy.deepcopy(model)\n",
        "      submodel = submodel.to(device)\n",
        "\n",
        "      opt = QlsdPPLocal(submodel.parameters(), prior = prior, N = partition, \n",
        "                        l = l, s = s)\n",
        "      \n",
        "      submodels.append({'model': GradSampleModule(submodel),\n",
        "                        'optimizer': opt, \n",
        "                        'N': partition,\n",
        "                        'indices': torch.arange(partition)})\n",
        "\n",
        "\n",
        "    self.distributed_model = submodels\n",
        "    self.loss_criterion = torch.nn.CrossEntropyLoss()\n",
        "    self.saved_weights = []\n",
        "    self.mix_in = 1000\n",
        "    self.active = [i for i in range(self.b)]\n",
        "\n",
        "  def step(self):\n",
        "    grads = []\n",
        "    for ind, local in enumerate(self.distributed_model):\n",
        "      if ind in self.active:\n",
        "        local['optimizer'].step(self.clock, local['indices'])\n",
        "        local_grad = []\n",
        "        for name, param in local['model'].named_parameters():\n",
        "          local_grad.append(param.grad)\n",
        "        grads.append(local_grad)\n",
        "    \n",
        "    self.central_model['optimizer'].step(grads)\n",
        "\n",
        "    for local in self.distributed_model:\n",
        "      for param1, param2 in zip(local['model'].parameters(),\n",
        "                                self.central_model['model'].parameters()):\n",
        "        param1.data = copy.deepcopy(param2.data)\n",
        "\n",
        "    self.clock += 1\n",
        "    return grads\n",
        "\n",
        "  def loss(self, sampled_data, p = 1):\n",
        "\n",
        "    loss = 0\n",
        "    active = []\n",
        "    for i,local in enumerate(self.distributed_model):\n",
        "\n",
        "      local['indices'] = None\n",
        "\n",
        "      # Require all models to take the full gradient at the same time step.\n",
        "      # Drop out during full gradient calculation steps causes problems.\n",
        "      if (torch.rand(1)<= p) or (self.clock % self.l == 0):\n",
        "\n",
        "        y_hat = local['model'].forward(sampled_data[0][i].to(device))\n",
        "        local['indices'] = sampled_data[2][i]\n",
        "        loss += self.loss_criterion(y_hat, sampled_data[1][i].to(device))\n",
        "        active.append(i)\n",
        "\n",
        "    self.active = active\n",
        "    return loss\n",
        "\n",
        "  def zero_grad(self):\n",
        "    for local in self.distributed_model:\n",
        "      local['optimizer'].zero_grad()\n",
        "      local['model'].zero_grad()\n",
        "\n",
        "  def sample_weights(self):\n",
        "    if (self.clock >= self.mix_in) and (self.clock % 100 == 0):\n",
        "      with torch.no_grad():\n",
        "        self.saved_weights.append({name: (param.cpu().detach().clone()) for name, param in \\\n",
        "        self.central_model['model'].named_parameters()})"
      ],
      "metadata": {
        "id": "WzGUB4KD6QHU"
      },
      "execution_count": null,
      "outputs": []
    },
    {
      "cell_type": "markdown",
      "source": [
        "# NN Model, Training Loop, Finding the LR, Testing Loop"
      ],
      "metadata": {
        "id": "qhj63gML79n1"
      }
    },
    {
      "cell_type": "markdown",
      "source": [
        "## Local Neural Network Model"
      ],
      "metadata": {
        "id": "2Ch-xL-k227u"
      }
    },
    {
      "cell_type": "code",
      "source": [
        "hidden_size = 10\n",
        "class SubNet(nn.Module):\n",
        "  def __init__(self):\n",
        "    super(SubNet, self).__init__()\n",
        "    self.layer1 = nn.Linear(input_dimension, hidden_size)\n",
        "    self.layer2 = nn.Linear(hidden_size, output_dimension)\n",
        "\n",
        "  def forward(self,x):\n",
        "    x = torch.flatten(x,1)\n",
        "    x = self.layer1(x)\n",
        "    x = F.relu(x)\n",
        "    x = self.layer2(x)\n",
        "    return(x)"
      ],
      "metadata": {
        "id": "23cUEEQ_6QLY"
      },
      "execution_count": null,
      "outputs": []
    },
    {
      "cell_type": "markdown",
      "source": [
        "## Finding Learning Rate"
      ],
      "metadata": {
        "id": "CxEZjyVs3h97"
      }
    },
    {
      "cell_type": "code",
      "source": [
        "def find_lr(fed_mod, data, batch_size, l, p = 1, device = 'cpu',\n",
        "            initial_value = 1e-10, final_value = 10.0):\n",
        "  '''\n",
        "  Cycles through learning rates as the dataset is sampled.  Use one with the\n",
        "  greatest decrease on the loss funciton.  If the loss blows up, break the\n",
        "  loop.  It can be useful to check filtered results by hand to select an optimal\n",
        "  LR.\n",
        "  '''\n",
        "  n_passes = int(sum(data.partition_sizes)/batch_size)\n",
        "  print('Total Number of Passes: ', n_passes)\n",
        "  step_size = (final_value/initial_value)**(1.0/n_passes)\n",
        "  training_loss = []\n",
        "  log_lrs = []\n",
        "  LR = initial_value\n",
        "  fed_mod.central_model['optimizer'].param_groups[0]['lr'] = LR\n",
        "  best_loss = 0.0\n",
        "  for t in range(n_passes):\n",
        "    fed_mod.zero_grad()\n",
        "\n",
        "    if t % l == 0:\n",
        "      sample = data.sample()\n",
        "    else:\n",
        "      sample = data.sample(batch_size)\n",
        "\n",
        "    loss = fed_mod.loss(sample, p)\n",
        "\n",
        "    if type(loss) == int:\n",
        "      continue\n",
        "    loss.backward()\n",
        "    fed_mod.step()\n",
        "\n",
        "    training_loss.append(loss.item())\n",
        "    log_lrs.append(math.log10(LR))\n",
        "\n",
        "    if t > 1 and loss > 4*best_loss:\n",
        "      print(\"Loss Exploded\")\n",
        "      break\n",
        "\n",
        "    if loss < best_loss or t == 1:\n",
        "      best_loss = loss\n",
        "\n",
        "    LR*= step_size\n",
        "    fed_mod.central_model['optimizer'].param_groups[0]['lr'] = LR\n",
        "    if t % 100 == 0:\n",
        "      print(\"Iteration %d \" % (t + 1))\n",
        "  return training_loss, log_lrs"
      ],
      "metadata": {
        "id": "MfV1wNUH6QO4"
      },
      "execution_count": null,
      "outputs": []
    },
    {
      "cell_type": "markdown",
      "source": [
        "## Training Loop"
      ],
      "metadata": {
        "id": "WNZDWRek3lA5"
      }
    },
    {
      "cell_type": "code",
      "source": [
        "def train(fed_mod, data, batch_size, l, max_iter, p = 1):\n",
        "  training_loss = []\n",
        "  b = len(data.partition_sizes)\n",
        "  for t in range(max_iter):\n",
        "    fed_mod.zero_grad()\n",
        "\n",
        "\n",
        "    if t % l == 0:\n",
        "      sample = data.sample()\n",
        "    else:\n",
        "      sample = data.sample(batch_size)\n",
        "\n",
        "\n",
        "    loss = fed_mod.loss(sample, p)\n",
        "\n",
        "    # int loss means no particpating nodes\n",
        "    if type(loss) == int:\n",
        "      continue\n",
        "\n",
        "    loss.backward()\n",
        "    fed_mod.step()\n",
        "\n",
        "    training_loss.append(loss.item())\n",
        "\n",
        "    if t % 100 == 0:\n",
        "      print(\"Epoch %d Loss: %f\" % (t + 1,training_loss[-1]))\n",
        "\n",
        "    if t % int(10000/b) == 0:\n",
        "      pass\n",
        "      #fed_mod.central_model['optimizer'].param_groups[0]['lr'] *= .75\n",
        "\n",
        "    if t >= 2500:\n",
        "      fed_mod.sample_weights()\n",
        "\n",
        "  return training_loss"
      ],
      "metadata": {
        "id": "n25e166K6QSW"
      },
      "execution_count": null,
      "outputs": []
    },
    {
      "cell_type": "markdown",
      "source": [
        "## Testing Loop"
      ],
      "metadata": {
        "id": "j_g1YCGX3sFB"
      }
    },
    {
      "cell_type": "code",
      "source": [
        "def Test(fed_mod, data, device = 'cpu'):\n",
        "  sample = data.sample()\n",
        "  losses = []\n",
        "  accuracies = []\n",
        "  total = 0\n",
        "  num_correct = 0\n",
        "  b = len(sample[0])\n",
        "  raw_output = []\n",
        "  raw_targets = []\n",
        "  for i in range(b):\n",
        "    sample_output = fed_mod.central_model['model'](sample[0][i].to(device))\n",
        "    targets = sample[1][i].to(device)\n",
        "    losses.append(fed_mod.loss_criterion(sample_output, targets).cpu().item())\n",
        "    correct_in_sample = (1.0*(sample_output.argmax(dim = 1) == targets)).sum()\n",
        "    num_correct += correct_in_sample.cpu()\n",
        "    total += len(targets)\n",
        "    accuracies.append(correct_in_sample/len(targets))\n",
        "\n",
        "    raw_output.append(sample_output)\n",
        "    raw_targets.append(targets)\n",
        "  overall_accuracy = num_correct/total\n",
        "\n",
        "  return(losses, accuracies, overall_accuracy, torch.vstack(raw_output),\n",
        "         torch.cat(raw_targets, dim = 0))"
      ],
      "metadata": {
        "id": "Xl4Mt1ec8u7k"
      },
      "execution_count": null,
      "outputs": []
    },
    {
      "cell_type": "markdown",
      "source": [
        "# Experiment: Learning on MNIST with partial participation\n",
        "\n",
        "I chose MNIST since it fits on google colab and I can compare directly to results\n",
        "\n",
        "found using natural langevin dynamics."
      ],
      "metadata": {
        "id": "KonsAQonuKSi"
      }
    },
    {
      "cell_type": "markdown",
      "source": [
        "## finding an optimal LR and training"
      ],
      "metadata": {
        "id": "SW34ZrSw0kpd"
      }
    },
    {
      "cell_type": "code",
      "source": [
        "if torch.cuda.is_available():\n",
        "  device = torch.device(\"cuda:0\")\n",
        "  print(\"Cuda Found\")\n",
        "else:\n",
        "  device = torch.device(\"cpu\")"
      ],
      "metadata": {
        "id": "8w8oxBZ2241u",
        "colab": {
          "base_uri": "https://localhost:8080/"
        },
        "outputId": "e86c0e41-429f-4c0c-eba2-d433f1afce16"
      },
      "execution_count": null,
      "outputs": [
        {
          "output_type": "stream",
          "name": "stdout",
          "text": [
            "Cuda Found\n"
          ]
        }
      ]
    },
    {
      "cell_type": "code",
      "source": [
        "data = CycleSplitData(MNIST, 10, transform = lambda x: x/255.)\n",
        "local_model = SubNet()\n",
        "p = 16\n",
        "l = 20\n",
        "\n",
        "fed_mod = QlsdPP(local_model,\n",
        "                 data.partition_sizes, \n",
        "                 lr = 5e-7,\n",
        "                 s = 2**p,\n",
        "                 l = l,\n",
        "                 preconditioner = Euclidean, \n",
        "                 prior = Gaussian(0,0.1), device = device,\n",
        "                 MALA = False)"
      ],
      "metadata": {
        "id": "C519sLMciWJE"
      },
      "execution_count": null,
      "outputs": []
    },
    {
      "cell_type": "code",
      "source": [
        "losses, log_lrs = find_lr(fed_mod, data, batch_size, l, p = 1)"
      ],
      "metadata": {
        "id": "wXWh-HcCq9qG",
        "colab": {
          "base_uri": "https://localhost:8080/"
        },
        "outputId": "c5cf27cd-3d64-4591-f69a-40a97dac664a"
      },
      "execution_count": null,
      "outputs": [
        {
          "output_type": "stream",
          "name": "stdout",
          "text": [
            "Total Number of Passes:  600\n"
          ]
        },
        {
          "output_type": "stream",
          "name": "stderr",
          "text": [
            "/usr/local/lib/python3.7/dist-packages/torch/nn/modules/module.py:1033: UserWarning: Using a non-full backward hook when the forward contains multiple autograd Nodes is deprecated and will be removed in future versions. This hook will be missing some grad_input. Please use register_full_backward_hook to get the documented behavior.\n",
            "  warnings.warn(\"Using a non-full backward hook when the forward contains multiple autograd Nodes \"\n"
          ]
        },
        {
          "output_type": "stream",
          "name": "stdout",
          "text": [
            "Iteration 1 \n",
            "Iteration 101 \n",
            "Iteration 201 \n",
            "Iteration 301 \n",
            "Loss Exploded\n"
          ]
        }
      ]
    },
    {
      "cell_type": "code",
      "source": [
        "from scipy.signal import savgol_filter\n",
        "\n",
        "training_loss_smooth = savgol_filter(np.array(losses), 101, 3)\n",
        "plt.plot(log_lrs,training_loss_smooth)"
      ],
      "metadata": {
        "colab": {
          "base_uri": "https://localhost:8080/",
          "height": 283
        },
        "id": "kmfUikH4uiaq",
        "outputId": "6423f010-237b-4f7a-808c-2471689c55c8"
      },
      "execution_count": null,
      "outputs": [
        {
          "output_type": "execute_result",
          "data": {
            "text/plain": [
              "[<matplotlib.lines.Line2D at 0x7f4790bc9610>]"
            ]
          },
          "metadata": {},
          "execution_count": 44
        },
        {
          "output_type": "display_data",
          "data": {
            "text/plain": [
              "<Figure size 432x288 with 1 Axes>"
            ],
            "image/png": "[encoded data removed]"
          },
          "metadata": {
            "needs_background": "light"
          }
        }
      ]
    },
    {
      "cell_type": "code",
      "source": [
        "# Learning rate can be finicky, close to leftmost minima\n",
        "LR_10 = log_lrs[np.argmin(np.diff(training_loss_smooth))+1]\n",
        "#LR_10 = -5 #-4.921666666666658\n",
        "#LR_10 = -2\n",
        "LR = 10**LR_10\n",
        "print('Learning Rate from Minima: ', LR)\n",
        "print('log_10(LR): ', LR_10)\n",
        "#LR = 10**(np.log10(-5.5))"
      ],
      "metadata": {
        "colab": {
          "base_uri": "https://localhost:8080/"
        },
        "id": "amk8dWSiur8v",
        "outputId": "69ee7de1-610c-44f2-dcbf-538f42313275"
      },
      "execution_count": null,
      "outputs": [
        {
          "output_type": "stream",
          "name": "stdout",
          "text": [
            "Learning Rate from Minima:  2.3085183622427994e-06\n",
            "log_10(LR):  -5.63666666666666\n"
          ]
        }
      ]
    },
    {
      "cell_type": "code",
      "source": [
        "local_model = SubNet()\n",
        "fed_mod = QlsdPP(local_model, \n",
        "                 data.partition_sizes, \n",
        "                 lr = LR,\n",
        "                 s = 2**p,\n",
        "                 l = l,\n",
        "                 preconditioner = Adam, \n",
        "                 prior = Gaussian(0,0.1), device = device,\n",
        "                 MALA = True)"
      ],
      "metadata": {
        "id": "LmfALS3ByEDh"
      },
      "execution_count": null,
      "outputs": []
    },
    {
      "cell_type": "code",
      "source": [
        "training_loss = train(fed_mod, data, batch_size, l, 4000, p = 1)"
      ],
      "metadata": {
        "colab": {
          "base_uri": "https://localhost:8080/"
        },
        "id": "-CV52SQxvEW3",
        "outputId": "a41793c4-8f9c-4436-fa70-cf430435ae8e"
      },
      "execution_count": null,
      "outputs": [
        {
          "output_type": "stream",
          "name": "stderr",
          "text": [
            "/usr/local/lib/python3.7/dist-packages/torch/nn/modules/module.py:1033: UserWarning: Using a non-full backward hook when the forward contains multiple autograd Nodes is deprecated and will be removed in future versions. This hook will be missing some grad_input. Please use register_full_backward_hook to get the documented behavior.\n",
            "  warnings.warn(\"Using a non-full backward hook when the forward contains multiple autograd Nodes \"\n"
          ]
        },
        {
          "output_type": "stream",
          "name": "stdout",
          "text": [
            "Epoch 1 Loss: 23.145533\n",
            "Epoch 101 Loss: 14.054606\n",
            "Epoch 201 Loss: 8.051249\n",
            "Epoch 301 Loss: 5.907751\n",
            "Epoch 401 Loss: 5.197047\n",
            "Epoch 501 Loss: 4.733196\n",
            "Epoch 601 Loss: 4.530804\n",
            "Epoch 701 Loss: 4.363981\n",
            "Epoch 801 Loss: 4.263237\n",
            "Epoch 901 Loss: 4.174806\n",
            "Epoch 1001 Loss: 4.126699\n",
            "Epoch 1101 Loss: 4.041432\n",
            "Epoch 1201 Loss: 4.026085\n",
            "Epoch 1301 Loss: 4.008116\n",
            "Epoch 1401 Loss: 3.971715\n",
            "Epoch 1501 Loss: 3.938886\n",
            "Epoch 1601 Loss: 3.948369\n",
            "Epoch 1701 Loss: 3.909026\n",
            "Epoch 1801 Loss: 3.933086\n",
            "Epoch 1901 Loss: 3.897209\n",
            "Epoch 2001 Loss: 3.860873\n",
            "Epoch 2101 Loss: 3.889560\n",
            "Epoch 2201 Loss: 3.893169\n",
            "Epoch 2301 Loss: 3.887274\n",
            "Epoch 2401 Loss: 3.860960\n",
            "Epoch 2501 Loss: 3.817187\n",
            "Epoch 2601 Loss: 3.847632\n",
            "Epoch 2701 Loss: 3.833492\n",
            "Epoch 2801 Loss: 3.870532\n",
            "Epoch 2901 Loss: 3.848746\n",
            "Epoch 3001 Loss: 3.834824\n",
            "Epoch 3101 Loss: 3.811452\n",
            "Epoch 3201 Loss: 3.814698\n",
            "Epoch 3301 Loss: 3.816237\n",
            "Epoch 3401 Loss: 3.838049\n",
            "Epoch 3501 Loss: 3.813815\n",
            "Epoch 3601 Loss: 3.842110\n",
            "Epoch 3701 Loss: 3.833281\n",
            "Epoch 3801 Loss: 3.841797\n",
            "Epoch 3901 Loss: 3.795777\n"
          ]
        }
      ]
    },
    {
      "cell_type": "code",
      "source": [
        "plt.plot(training_loss)"
      ],
      "metadata": {
        "colab": {
          "base_uri": "https://localhost:8080/",
          "height": 283
        },
        "id": "NgtDbpm_-9IV",
        "outputId": "4c38914a-e386-4b36-a9f0-9ba1d5498884"
      },
      "execution_count": null,
      "outputs": [
        {
          "output_type": "execute_result",
          "data": {
            "text/plain": [
              "[<matplotlib.lines.Line2D at 0x7f4790a5cdd0>]"
            ]
          },
          "metadata": {},
          "execution_count": 50
        },
        {
          "output_type": "display_data",
          "data": {
            "text/plain": [
              "<Figure size 432x288 with 1 Axes>"
            ],
            "image/png": "[encoded data removed]"
          },
          "metadata": {
            "needs_background": "light"
          }
        }
      ]
    },
    {
      "cell_type": "code",
      "source": [
        "train_losses, train_accuracies, train_overall_accuracy, \\\n",
        "raw_out, raw_labels = Test(fed_mod, data, device)"
      ],
      "metadata": {
        "id": "8RyqWlL3vNPI"
      },
      "execution_count": null,
      "outputs": []
    },
    {
      "cell_type": "code",
      "source": [
        "MNIST_test = torchvision.datasets.MNIST(root = \".\",\n",
        "                                        train = False,\n",
        "                                        download = True)\n",
        "\n",
        "data_test = CycleSplitData(MNIST_test,10, transform = lambda x: x/255.)\n",
        "\n",
        "FMNIST_test = torchvision.datasets.FashionMNIST(root = '.',\n",
        "                                                train = False,\n",
        "                                                download = True)\n",
        "\n",
        "data_test_oos = CycleSplitData(FMNIST_test, 10, transform = lambda x: x/255.)"
      ],
      "metadata": {
        "id": "uvyNgdjOyfXn"
      },
      "execution_count": null,
      "outputs": []
    },
    {
      "cell_type": "code",
      "source": [
        "test_losses, test_accuracies, test_overall_accuracy\\\n",
        ",raw_test_out, raw_test_labels = Test(fed_mod, data_test, device)"
      ],
      "metadata": {
        "id": "8UZJ4dtHyg4B"
      },
      "execution_count": null,
      "outputs": []
    },
    {
      "cell_type": "code",
      "source": [
        "print(test_accuracies)"
      ],
      "metadata": {
        "colab": {
          "base_uri": "https://localhost:8080/"
        },
        "id": "kvDg_qBa-lYM",
        "outputId": "33f8c424-9060-4903-91ba-85847131ce3f"
      },
      "execution_count": null,
      "outputs": [
        {
          "output_type": "stream",
          "name": "stdout",
          "text": [
            "[tensor(0.9037, device='cuda:0'), tensor(0.8725, device='cuda:0'), tensor(0.8881, device='cuda:0'), tensor(0.8896, device='cuda:0'), tensor(0.8822, device='cuda:0'), tensor(0.9218, device='cuda:0'), tensor(0.9264, device='cuda:0'), tensor(0.9448, device='cuda:0'), tensor(0.9634, device='cuda:0'), tensor(0.9147, device='cuda:0')]\n"
          ]
        }
      ]
    },
    {
      "cell_type": "code",
      "source": [
        "# Overall test accuracy is comparable to similar model in non-federated context\n",
        "print(test_overall_accuracy)"
      ],
      "metadata": {
        "colab": {
          "base_uri": "https://localhost:8080/"
        },
        "id": "TFDQRkyF-ogf",
        "outputId": "35f7e1ba-bfa3-404f-f748-524ca10ce8c1"
      },
      "execution_count": null,
      "outputs": [
        {
          "output_type": "stream",
          "name": "stdout",
          "text": [
            "tensor(0.9111)\n"
          ]
        }
      ]
    },
    {
      "cell_type": "code",
      "source": [
        "print(sum(test_losses)/len(test_losses))"
      ],
      "metadata": {
        "id": "EEnmNPQnJCKE",
        "colab": {
          "base_uri": "https://localhost:8080/"
        },
        "outputId": "bda84c21-48f8-43c0-d22c-f03dad3f33aa"
      },
      "execution_count": null,
      "outputs": [
        {
          "output_type": "stream",
          "name": "stdout",
          "text": [
            "0.3685747891664505\n"
          ]
        }
      ]
    },
    {
      "cell_type": "markdown",
      "source": [
        "## Extracting model averaged weights"
      ],
      "metadata": {
        "id": "USiK7-pL0bsA"
      }
    },
    {
      "cell_type": "code",
      "source": [
        "def post_mean(saved_weights):\n",
        "  saved_weights = fed_mod.saved_weights\n",
        "  post_mean = dict.fromkeys(saved_weights[0], 0)\n",
        "  for weight in saved_weights:\n",
        "    for layername in weight:\n",
        "      post_mean[layername] += weight[layername]/len(saved_weights)\n",
        "  return post_mean"
      ],
      "metadata": {
        "id": "HPZodn4Z0Srx"
      },
      "execution_count": null,
      "outputs": []
    },
    {
      "cell_type": "code",
      "source": [
        "fed_mod.saved_weights"
      ],
      "metadata": {
        "colab": {
          "base_uri": "https://localhost:8080/"
        },
        "id": "RSb-hMT_j6as",
        "outputId": "31642092-dbd0-4dc5-abb7-0b25459ee83c"
      },
      "execution_count": null,
      "outputs": [
        {
          "output_type": "execute_result",
          "data": {
            "text/plain": [
              "[{'layer1.bias': tensor([-0.0820, -0.0570,  0.1179,  0.0444,  0.2138, -0.1720,  0.0856,  0.2911,\n",
              "           0.2149,  0.0380]),\n",
              "  'layer1.weight': tensor([[ 0.0555,  0.0534, -0.0414,  ...,  0.0126,  0.0290,  0.0136],\n",
              "          [ 0.0172, -0.0057,  0.0037,  ...,  0.0145, -0.0006,  0.0118],\n",
              "          [ 0.0093, -0.0184,  0.0078,  ..., -0.0155, -0.0177, -0.0210],\n",
              "          ...,\n",
              "          [ 0.0378,  0.0229, -0.0140,  ..., -0.0345,  0.0228, -0.0035],\n",
              "          [ 0.0224,  0.0081, -0.0128,  ..., -0.0413,  0.0316, -0.0062],\n",
              "          [ 0.0450, -0.0067, -0.0194,  ..., -0.0205, -0.0014,  0.0259]]),\n",
              "  'layer2.bias': tensor([-0.0913,  0.0953, -0.0465, -0.0119,  0.0543,  0.1901, -0.0078,  0.0172,\n",
              "          -0.1960,  0.0874]),\n",
              "  'layer2.weight': tensor([[ 0.6122,  0.0827, -0.2945, -0.4838,  0.5611, -0.0881, -0.5872,  0.1545,\n",
              "           -0.2957, -0.1830],\n",
              "          [-0.6090,  0.0840,  0.7692,  0.6660, -0.1005, -0.2792, -0.3290, -0.2714,\n",
              "            0.2713, -0.1585],\n",
              "          [ 0.4402,  0.1224, -0.1037,  0.3488, -0.1222, -0.4814, -0.2066, -0.0663,\n",
              "           -0.3548,  0.8790],\n",
              "          [-0.2382,  0.3889,  0.3501, -0.5481, -0.0387,  0.3739, -0.3345, -0.3033,\n",
              "            0.3799,  0.7683],\n",
              "          [-0.0453, -0.4710,  0.2986, -0.4941, -0.3333, -0.3001,  1.0592,  0.1346,\n",
              "           -0.1418, -0.2341],\n",
              "          [-0.2897, -0.3780, -0.3694, -0.0284,  0.9749,  0.1826,  0.2699, -0.3092,\n",
              "            0.2120,  0.1146],\n",
              "          [ 0.7160, -0.4484, -0.2623,  0.2523, -0.2346, -0.5527,  0.0656, -0.1710,\n",
              "            0.6061, -0.4171],\n",
              "          [-0.5470, -0.1166,  0.0233,  0.0489, -0.1935,  0.1872, -0.4346,  1.1346,\n",
              "           -0.1891,  0.1925],\n",
              "          [ 0.2242, -0.0035, -0.1050,  0.3698, -0.0785,  0.7740,  0.1494, -0.5486,\n",
              "           -0.5736, -0.3018],\n",
              "          [-0.2833,  0.8560, -0.4847, -0.1814, -0.4738,  0.1948,  0.3042,  0.2985,\n",
              "           -0.0516, -0.4925]])},\n",
              " {'layer1.bias': tensor([-0.1208,  0.0021,  0.1228,  0.0617,  0.1794, -0.1251,  0.0549,  0.2657,\n",
              "           0.1469, -0.0093]),\n",
              "  'layer1.weight': tensor([[ 0.0423,  0.0564, -0.0544,  ...,  0.0183,  0.0630,  0.0176],\n",
              "          [ 0.0223, -0.0086,  0.0008,  ...,  0.0074, -0.0014,  0.0096],\n",
              "          [ 0.0034, -0.0132,  0.0027,  ..., -0.0217, -0.0146, -0.0190],\n",
              "          ...,\n",
              "          [ 0.0231,  0.0299, -0.0002,  ..., -0.0412,  0.0271, -0.0049],\n",
              "          [ 0.0294,  0.0112, -0.0069,  ..., -0.0499,  0.0230, -0.0201],\n",
              "          [ 0.0406,  0.0014,  0.0018,  ..., -0.0444,  0.0254,  0.0390]]),\n",
              "  'layer2.bias': tensor([-0.0894,  0.1386, -0.0219, -0.0306,  0.0625,  0.1650,  0.0235,  0.0405,\n",
              "          -0.2123,  0.0637]),\n",
              "  'layer2.weight': tensor([[ 0.7200, -0.0999, -0.3020, -0.5302,  0.5299, -0.0629, -0.6271,  0.2166,\n",
              "           -0.2833, -0.1301],\n",
              "          [-0.6005,  0.2359,  0.7321,  0.6870, -0.0349, -0.1821, -0.4412, -0.3209,\n",
              "            0.2597, -0.1914],\n",
              "          [ 0.3932,  0.1135, -0.0279,  0.3857, -0.1626, -0.5055, -0.1843, -0.0377,\n",
              "           -0.3051,  0.8892],\n",
              "          [-0.2283,  0.3854,  0.2645, -0.4649, -0.0256,  0.4319, -0.3038, -0.3731,\n",
              "            0.3518,  0.8049],\n",
              "          [-0.1554, -0.3770,  0.3647, -0.4441, -0.3048, -0.2816,  1.0016,  0.2615,\n",
              "           -0.1823, -0.2616],\n",
              "          [-0.2669, -0.3688, -0.3312, -0.1158,  1.0383,  0.0983,  0.3173, -0.2525,\n",
              "            0.1809,  0.0658],\n",
              "          [ 0.6030, -0.4067, -0.0230,  0.2510, -0.2990, -0.6031,  0.1512, -0.1212,\n",
              "            0.7193, -0.4512],\n",
              "          [-0.5730, -0.1167,  0.0353,  0.0538, -0.3209,  0.2416, -0.4860,  1.1013,\n",
              "           -0.1308,  0.2617],\n",
              "          [ 0.2490, -0.1214, -0.1466,  0.4023, -0.0523,  0.6945,  0.1832, -0.5561,\n",
              "           -0.5719, -0.2589],\n",
              "          [-0.2334,  0.8449, -0.5238, -0.2492, -0.4759,  0.1827,  0.2796,  0.3033,\n",
              "           -0.0207, -0.5161]])},\n",
              " {'layer1.bias': tensor([-0.0549, -0.0814,  0.0793,  0.0936,  0.1632, -0.1360,  0.1003,  0.2089,\n",
              "           0.1743,  0.0286]),\n",
              "  'layer1.weight': tensor([[ 0.0412,  0.0317, -0.0716,  ..., -0.0052,  0.0673,  0.0397],\n",
              "          [ 0.0227, -0.0061,  0.0039,  ...,  0.0066,  0.0005,  0.0072],\n",
              "          [ 0.0088, -0.0072,  0.0141,  ..., -0.0118, -0.0048, -0.0261],\n",
              "          ...,\n",
              "          [-0.0045,  0.0406, -0.0011,  ..., -0.0247,  0.0429, -0.0353],\n",
              "          [ 0.0328,  0.0088, -0.0005,  ..., -0.0358,  0.0172, -0.0160],\n",
              "          [ 0.0085,  0.0173, -0.0092,  ..., -0.0312,  0.0188,  0.0165]]),\n",
              "  'layer2.bias': tensor([-0.0549,  0.1305, -0.0549, -0.0205,  0.0736,  0.1429,  0.0019,  0.0961,\n",
              "          -0.2573,  0.0294]),\n",
              "  'layer2.weight': tensor([[ 0.6207,  0.0224, -0.2971, -0.5136,  0.7108, -0.0926, -0.6075,  0.1549,\n",
              "           -0.3797, -0.1129],\n",
              "          [-0.5792, -0.0262,  0.7870,  0.7098, -0.1915, -0.2271, -0.3619, -0.3132,\n",
              "            0.2710, -0.1624],\n",
              "          [ 0.4636,  0.1214, -0.0904,  0.3660, -0.1473, -0.4959, -0.1949, -0.0946,\n",
              "           -0.3861,  0.9174],\n",
              "          [-0.2245,  0.3258,  0.4258, -0.5293, -0.0773,  0.3973, -0.3262, -0.2553,\n",
              "            0.3580,  0.7435],\n",
              "          [-0.0521, -0.4858,  0.1931, -0.4313, -0.2946, -0.3200,  1.0148,  0.1887,\n",
              "           -0.1475, -0.1773],\n",
              "          [-0.2975, -0.3593, -0.3646, -0.0457,  0.9451,  0.1439,  0.2686, -0.3262,\n",
              "            0.2324,  0.0607],\n",
              "          [ 0.7206, -0.4462, -0.2182,  0.2470, -0.2568, -0.5525,  0.0663, -0.1726,\n",
              "            0.4763, -0.4183],\n",
              "          [-0.5590, -0.1124, -0.0039,  0.0577, -0.2706,  0.1869, -0.3970,  1.1310,\n",
              "           -0.1498,  0.2174],\n",
              "          [ 0.2062,  0.0443, -0.1261,  0.3538, -0.0382,  0.8013,  0.1250, -0.5587,\n",
              "           -0.5273, -0.2508],\n",
              "          [-0.2587,  0.8589, -0.4262, -0.2322, -0.4479,  0.1232,  0.3006,  0.2786,\n",
              "            0.1032, -0.4929]])},\n",
              " {'layer1.bias': tensor([-0.0601,  0.0079,  0.0793,  0.0706,  0.1674, -0.0938,  0.0688,  0.2065,\n",
              "           0.1664,  0.0257]),\n",
              "  'layer1.weight': tensor([[ 0.0259,  0.0302, -0.0993,  ..., -0.0253,  0.1141,  0.0321],\n",
              "          [ 0.0187, -0.0084,  0.0008,  ..., -0.0066,  0.0147,  0.0043],\n",
              "          [ 0.0118, -0.0091,  0.0193,  ..., -0.0066,  0.0022, -0.0185],\n",
              "          ...,\n",
              "          [-0.0086,  0.0443,  0.0001,  ..., -0.0413,  0.0492, -0.0294],\n",
              "          [-0.0025,  0.0012,  0.0435,  ..., -0.0268,  0.0221,  0.0077],\n",
              "          [ 0.0131,  0.0276, -0.0338,  ..., -0.0337,  0.0149,  0.0299]]),\n",
              "  'layer2.bias': tensor([-0.0945,  0.1267, -0.0772, -0.0098, -0.0112,  0.2090,  0.0129,  0.0831,\n",
              "          -0.2849, -0.0209]),\n",
              "  'layer2.weight': tensor([[ 0.6879, -0.1866, -0.3064, -0.4946,  0.5856, -0.0824, -0.6048,  0.1500,\n",
              "           -0.2737, -0.0696],\n",
              "          [-0.5995,  0.2629,  0.7052,  0.7265, -0.1249, -0.2158, -0.4497, -0.3421,\n",
              "            0.2360, -0.1957],\n",
              "          [ 0.4401,  0.1538, -0.0210,  0.3524, -0.1343, -0.7153, -0.1734, -0.0812,\n",
              "           -0.3244,  0.8966],\n",
              "          [-0.1880,  0.3069,  0.3144, -0.4966, -0.0442,  0.4295, -0.2965, -0.4095,\n",
              "            0.3491,  0.7693],\n",
              "          [-0.1058, -0.4845,  0.3883, -0.4349, -0.3182, -0.2740,  0.9811,  0.2397,\n",
              "           -0.1356, -0.3042],\n",
              "          [-0.2448, -0.3953, -0.3601, -0.0897,  0.9043,  0.1274,  0.2785, -0.2729,\n",
              "            0.2178,  0.0105],\n",
              "          [ 0.6394, -0.3296, -0.1640,  0.2533, -0.2926, -0.6212,  0.1539, -0.1748,\n",
              "            0.6102, -0.4351],\n",
              "          [-0.5610, -0.1636, -0.0106,  0.0170, -0.3237,  0.2625, -0.5239,  1.0772,\n",
              "           -0.0656,  0.3090],\n",
              "          [ 0.2677, -0.0972, -0.1916,  0.3980, -0.0441,  0.6796,  0.1697, -0.5792,\n",
              "           -0.5860, -0.2538],\n",
              "          [-0.1989,  0.8303, -0.4175, -0.3322, -0.4213,  0.2039,  0.2337,  0.2974,\n",
              "           -0.0952, -0.4818]])},\n",
              " {'layer1.bias': tensor([-0.1074, -0.0087,  0.0724,  0.1052,  0.1509, -0.1531,  0.0780,  0.1950,\n",
              "           0.1783,  0.0194]),\n",
              "  'layer1.weight': tensor([[ 0.0273,  0.0294, -0.0784,  ..., -0.0089,  0.0953,  0.0068],\n",
              "          [ 0.0178, -0.0104,  0.0009,  ..., -0.0001,  0.0133, -0.0038],\n",
              "          [ 0.0113,  0.0069,  0.0206,  ..., -0.0125,  0.0140, -0.0100],\n",
              "          ...,\n",
              "          [-0.0021,  0.0265, -0.0011,  ..., -0.0581,  0.0339, -0.0390],\n",
              "          [ 0.0059,  0.0189,  0.0602,  ..., -0.0233,  0.0002,  0.0257],\n",
              "          [ 0.0292,  0.0214, -0.0189,  ..., -0.0205,  0.0134,  0.0607]]),\n",
              "  'layer2.bias': tensor([-0.0456,  0.0859, -0.0584,  0.0050, -0.0184,  0.1819,  0.0177,  0.0406,\n",
              "          -0.3112, -0.0326]),\n",
              "  'layer2.weight': tensor([[ 0.6602,  0.0825, -0.3066, -0.5191,  0.6432, -0.0986, -0.6268,  0.1000,\n",
              "           -0.3440, -0.1339],\n",
              "          [-0.5715,  0.0506,  0.8109,  0.7341, -0.1712, -0.3738, -0.3800, -0.2926,\n",
              "            0.2750, -0.1875],\n",
              "          [ 0.4321,  0.1059, -0.0857,  0.3639, -0.1193, -0.5523, -0.2069, -0.0913,\n",
              "           -0.3645,  0.9250],\n",
              "          [-0.2211,  0.2810,  0.4613, -0.5263, -0.0453,  0.3966, -0.3147, -0.3491,\n",
              "            0.3486,  0.7140],\n",
              "          [ 0.0463, -0.4955,  0.1897, -0.4561, -0.3627, -0.3103,  0.9764,  0.2217,\n",
              "           -0.1518, -0.2775],\n",
              "          [-0.2977, -0.3946, -0.4154, -0.0218,  0.9129,  0.1927,  0.2555, -0.3145,\n",
              "            0.2150,  0.0161],\n",
              "          [ 0.6884, -0.3999, -0.1554,  0.2732, -0.2813, -0.5671,  0.0137, -0.1960,\n",
              "            0.4657, -0.4002],\n",
              "          [-0.5301, -0.1473, -0.0201,  0.0282, -0.2594,  0.1604, -0.4755,  1.1246,\n",
              "           -0.1120,  0.2702],\n",
              "          [ 0.2352,  0.0088, -0.1163,  0.3727, -0.0442,  0.7568,  0.1426, -0.5568,\n",
              "           -0.5769, -0.2611],\n",
              "          [-0.2187,  0.8695, -0.3391, -0.2464, -0.5037,  0.1510,  0.2603,  0.2469,\n",
              "            0.0016, -0.4630]])},\n",
              " {'layer1.bias': tensor([-0.1113,  0.0157,  0.1080,  0.1014,  0.1294, -0.0786,  0.0697,  0.2570,\n",
              "           0.1512, -0.0244]),\n",
              "  'layer1.weight': tensor([[ 0.0285,  0.0026, -0.0882,  ..., -0.0099,  0.1057,  0.0300],\n",
              "          [ 0.0177, -0.0030,  0.0002,  ...,  0.0038,  0.0181, -0.0066],\n",
              "          [ 0.0066,  0.0108,  0.0272,  ..., -0.0102,  0.0189, -0.0014],\n",
              "          ...,\n",
              "          [-0.0109,  0.0288,  0.0128,  ..., -0.0521,  0.0504, -0.0428],\n",
              "          [ 0.0049, -0.0041,  0.0470,  ..., -0.0073,  0.0388,  0.0219],\n",
              "          [ 0.0122,  0.0282, -0.0469,  ..., -0.0047, -0.0043,  0.0274]]),\n",
              "  'layer2.bias': tensor([-0.0624,  0.1361, -0.0317, -0.0240,  0.0113,  0.1910,  0.0132,  0.0730,\n",
              "          -0.2813, -0.0659]),\n",
              "  'layer2.weight': tensor([[ 0.7201, -0.1506, -0.3017, -0.5674,  0.5737, -0.0964, -0.6396,  0.1201,\n",
              "           -0.2417, -0.0755],\n",
              "          [-0.6085,  0.2067,  0.6978,  0.7643, -0.1818, -0.2645, -0.3882, -0.3455,\n",
              "            0.2295, -0.2141],\n",
              "          [ 0.4359,  0.1192,  0.0065,  0.3740, -0.1453, -0.6155, -0.1691, -0.0570,\n",
              "           -0.2853,  0.9091],\n",
              "          [-0.2010,  0.2743,  0.3060, -0.5026, -0.0240,  0.4256, -0.2917, -0.4318,\n",
              "            0.3332,  0.8211],\n",
              "          [-0.0934, -0.3921,  0.3525, -0.4246, -0.3542, -0.2926,  0.9243,  0.2517,\n",
              "           -0.1503, -0.2707],\n",
              "          [-0.3298, -0.3776, -0.3190, -0.0548,  0.9756,  0.0958,  0.2879, -0.2518,\n",
              "            0.2904,  0.0142],\n",
              "          [ 0.5785, -0.3531, -0.0466,  0.2678, -0.2786, -0.6527,  0.1225, -0.1659,\n",
              "            0.7201, -0.4438],\n",
              "          [-0.5666, -0.1331, -0.0298,  0.0160, -0.2840,  0.2573, -0.5245,  1.1130,\n",
              "           -0.0946,  0.2577],\n",
              "          [ 0.2901, -0.0868, -0.2286,  0.3713, -0.0259,  0.6266,  0.1619, -0.5690,\n",
              "           -0.6353, -0.2699],\n",
              "          [-0.1560,  0.8313, -0.3794, -0.3558, -0.4426,  0.2365,  0.2158,  0.2791,\n",
              "           -0.1962, -0.4748]])},\n",
              " {'layer1.bias': tensor([-0.0702,  0.0041,  0.0965,  0.1117,  0.1570, -0.1148,  0.1121,  0.2738,\n",
              "           0.2099,  0.0323]),\n",
              "  'layer1.weight': tensor([[ 0.0366, -0.0116, -0.0950,  ...,  0.0204,  0.0737,  0.0234],\n",
              "          [ 0.0271,  0.0008, -0.0011,  ...,  0.0039,  0.0048, -0.0084],\n",
              "          [-0.0027,  0.0101,  0.0406,  ..., -0.0070,  0.0156, -0.0079],\n",
              "          ...,\n",
              "          [ 0.0360,  0.0257, -0.0111,  ..., -0.0396,  0.0280, -0.0460],\n",
              "          [ 0.0023, -0.0072,  0.0478,  ...,  0.0114,  0.0248,  0.0309],\n",
              "          [ 0.0212,  0.0267, -0.0389,  ..., -0.0044,  0.0263,  0.0232]]),\n",
              "  'layer2.bias': tensor([ 0.0223,  0.1245, -0.0476, -0.0467,  0.0174,  0.1676,  0.0256,  0.0853,\n",
              "          -0.2871, -0.0258]),\n",
              "  'layer2.weight': tensor([[ 0.6221,  0.0808, -0.2758, -0.5634,  0.6162, -0.0556, -0.6148,  0.1387,\n",
              "           -0.3170, -0.0775],\n",
              "          [-0.5918, -0.0624,  0.7530,  0.7210, -0.2035, -0.3380, -0.3322, -0.2600,\n",
              "            0.3059, -0.1853],\n",
              "          [ 0.4433,  0.0817, -0.1403,  0.3662, -0.1268, -0.4843, -0.1908, -0.0910,\n",
              "           -0.3125,  0.9474],\n",
              "          [-0.2140,  0.2490,  0.4813, -0.5554, -0.0518,  0.3989, -0.3109, -0.3620,\n",
              "            0.3378,  0.7509],\n",
              "          [ 0.0068, -0.4442,  0.1892, -0.4224, -0.3824, -0.3511,  0.9731,  0.2209,\n",
              "           -0.1807, -0.2285],\n",
              "          [-0.3764, -0.3720, -0.3980,  0.0088,  0.9710,  0.1553,  0.2818, -0.2832,\n",
              "            0.2744,  0.0014],\n",
              "          [ 0.7960, -0.3745, -0.2125,  0.2529, -0.2764, -0.6084,  0.0323, -0.2077,\n",
              "            0.6195, -0.4537],\n",
              "          [-0.5347, -0.1575, -0.0450,  0.0196, -0.2421,  0.1489, -0.4653,  1.1937,\n",
              "           -0.1435,  0.2238],\n",
              "          [ 0.2059, -0.0128, -0.1347,  0.3508, -0.0111,  0.7555,  0.1744, -0.5474,\n",
              "           -0.5917, -0.2574],\n",
              "          [-0.2023,  0.8456, -0.3207, -0.2978, -0.4601,  0.1712,  0.2810,  0.2592,\n",
              "           -0.0151, -0.4526]])},\n",
              " {'layer1.bias': tensor([-0.1387,  0.0204,  0.1018,  0.0869,  0.2117, -0.1138,  0.1085,  0.2281,\n",
              "           0.1884,  0.0206]),\n",
              "  'layer1.weight': tensor([[-0.0008, -0.0103, -0.0849,  ...,  0.0258,  0.0386,  0.0115],\n",
              "          [ 0.0203, -0.0008, -0.0041,  ...,  0.0054,  0.0104, -0.0085],\n",
              "          [ 0.0037,  0.0140,  0.0313,  ..., -0.0155,  0.0095, -0.0117],\n",
              "          ...,\n",
              "          [ 0.0386,  0.0053, -0.0027,  ..., -0.0128, -0.0246, -0.0313],\n",
              "          [-0.0161, -0.0213,  0.0540,  ...,  0.0248,  0.0215,  0.0141],\n",
              "          [-0.0117,  0.0178, -0.0029,  ..., -0.0221,  0.0195,  0.0290]]),\n",
              "  'layer2.bias': tensor([-0.0509,  0.1207, -0.0440, -0.0411,  0.0454,  0.1806, -0.0131,  0.0319,\n",
              "          -0.2424,  0.0052]),\n",
              "  'layer2.weight': tensor([[ 0.7604, -0.1945, -0.2694, -0.6010,  0.5826, -0.0918, -0.6322,  0.1441,\n",
              "           -0.2154, -0.0521],\n",
              "          [-0.6287,  0.1343,  0.6689,  0.7374, -0.1468, -0.2029, -0.3769, -0.2895,\n",
              "            0.2496, -0.2701],\n",
              "          [ 0.3997,  0.0792, -0.0688,  0.3907, -0.1362, -0.5782, -0.1700, -0.0462,\n",
              "           -0.2560,  0.9235],\n",
              "          [-0.1954,  0.2580,  0.3441, -0.4671, -0.0107,  0.4474, -0.3213, -0.4092,\n",
              "            0.3384,  0.7671],\n",
              "          [-0.1118, -0.4061,  0.3221, -0.3980, -0.3665, -0.2800,  0.9480,  0.3078,\n",
              "           -0.1716, -0.2494],\n",
              "          [-0.3314, -0.3367, -0.3783, -0.0820,  0.9775,  0.1017,  0.2896, -0.2387,\n",
              "            0.2571,  0.0033],\n",
              "          [ 0.6453, -0.3100, -0.1619,  0.2494, -0.3156, -0.5920,  0.1591, -0.1897,\n",
              "            0.6373, -0.4856],\n",
              "          [-0.5423, -0.1310, -0.0559,  0.0235, -0.2901,  0.3008, -0.5207,  1.1173,\n",
              "           -0.1385,  0.2487],\n",
              "          [ 0.3139, -0.1444, -0.2104,  0.3680, -0.0421,  0.6913,  0.1667, -0.5287,\n",
              "           -0.6546, -0.2704],\n",
              "          [-0.1999,  0.8396, -0.4871, -0.3532, -0.4394,  0.1686,  0.2412,  0.2973,\n",
              "           -0.1324, -0.4597]])},\n",
              " {'layer1.bias': tensor([-0.1120, -0.0317,  0.0983,  0.1358,  0.2056, -0.1321,  0.1331,  0.2362,\n",
              "           0.1538,  0.0246]),\n",
              "  'layer1.weight': tensor([[ 0.0268, -0.0195, -0.0430,  ...,  0.0081,  0.0340,  0.0227],\n",
              "          [ 0.0263, -0.0035,  0.0023,  ...,  0.0022,  0.0082, -0.0036],\n",
              "          [ 0.0121,  0.0044,  0.0206,  ..., -0.0148,  0.0124, -0.0077],\n",
              "          ...,\n",
              "          [ 0.0114, -0.0013, -0.0369,  ..., -0.0117, -0.0133, -0.0297],\n",
              "          [-0.0086, -0.0088,  0.0213,  ...,  0.0295,  0.0290, -0.0086],\n",
              "          [-0.0245,  0.0085, -0.0175,  ..., -0.0233,  0.0061,  0.0115]]),\n",
              "  'layer2.bias': tensor([-0.0077,  0.1228, -0.0786, -0.0690,  0.0203,  0.1899,  0.0047,  0.0652,\n",
              "          -0.2525, -0.0050]),\n",
              "  'layer2.weight': tensor([[ 0.5740,  0.0600, -0.2682, -0.5430,  0.6064, -0.0828, -0.6317,  0.1166,\n",
              "           -0.2886, -0.1179],\n",
              "          [-0.6048,  0.0433,  0.7575,  0.7585, -0.2105, -0.3601, -0.3713, -0.2785,\n",
              "            0.3040, -0.2058],\n",
              "          [ 0.4261,  0.1146, -0.1465,  0.3637, -0.1371, -0.4172, -0.2273, -0.0941,\n",
              "           -0.2768,  0.9388],\n",
              "          [-0.2422,  0.2254,  0.4883, -0.4881, -0.0354,  0.4375, -0.3141, -0.3139,\n",
              "            0.3456,  0.7557],\n",
              "          [ 0.0311, -0.4667,  0.2106, -0.4106, -0.3933, -0.3243,  0.9930,  0.1621,\n",
              "           -0.1417, -0.2370],\n",
              "          [-0.3994, -0.3576, -0.3786, -0.0113,  0.8991,  0.0910,  0.3065, -0.2524,\n",
              "            0.2784,  0.0210],\n",
              "          [ 0.7530, -0.3985, -0.1634,  0.2373, -0.2981, -0.5425, -0.0110, -0.1892,\n",
              "            0.5575, -0.4729],\n",
              "          [-0.5464, -0.0984, -0.0504,  0.0373, -0.2508,  0.1896, -0.4343,  1.1714,\n",
              "           -0.1755,  0.2175],\n",
              "          [ 0.1858, -0.0059, -0.0635,  0.3229, -0.0696,  0.7534,  0.1798, -0.5303,\n",
              "           -0.6463, -0.2718],\n",
              "          [-0.2469,  0.8389, -0.2939, -0.3271, -0.4888,  0.1352,  0.2800,  0.3241,\n",
              "            0.0378, -0.4823]])},\n",
              " {'layer1.bias': tensor([-0.1556,  0.0296,  0.1120,  0.1574,  0.1706, -0.1152,  0.1199,  0.2718,\n",
              "           0.2246,  0.0155]),\n",
              "  'layer1.weight': tensor([[ 0.0549, -0.0169, -0.0067,  ..., -0.0017,  0.0318,  0.0354],\n",
              "          [ 0.0258, -0.0027,  0.0044,  ...,  0.0033,  0.0063, -0.0017],\n",
              "          [ 0.0156,  0.0092,  0.0265,  ..., -0.0166,  0.0125,  0.0085],\n",
              "          ...,\n",
              "          [-0.0227,  0.0130, -0.0393,  ..., -0.0337,  0.0020,  0.0069],\n",
              "          [-0.0039, -0.0133,  0.0195,  ...,  0.0117,  0.0187,  0.0017],\n",
              "          [ 0.0062, -0.0059, -0.0131,  ..., -0.0209,  0.0133,  0.0196]]),\n",
              "  'layer2.bias': tensor([-0.0447,  0.0661, -0.0857, -0.0934,  0.0947,  0.1569, -0.0303,  0.1114,\n",
              "          -0.2447, -0.0053]),\n",
              "  'layer2.weight': tensor([[ 0.7385, -0.1186, -0.2329, -0.5815,  0.5544, -0.0944, -0.6499,  0.1812,\n",
              "           -0.1645, -0.0561],\n",
              "          [-0.6404,  0.0908,  0.6756,  0.7824, -0.1694, -0.1834, -0.4091, -0.2918,\n",
              "            0.2260, -0.2425],\n",
              "          [ 0.4287,  0.1116, -0.0637,  0.4196, -0.1593, -0.5464, -0.1536, -0.0709,\n",
              "           -0.2152,  0.9330],\n",
              "          [-0.2082,  0.2411,  0.4005, -0.4283, -0.0339,  0.4640, -0.3165, -0.4009,\n",
              "            0.3192,  0.8154],\n",
              "          [-0.0355, -0.4151,  0.3581, -0.4076, -0.4028, -0.2890,  0.9608,  0.2449,\n",
              "           -0.1375, -0.2493],\n",
              "          [-0.3375, -0.3503, -0.3958, -0.0545,  0.9585,  0.0678,  0.2949, -0.2126,\n",
              "            0.3069, -0.0349],\n",
              "          [ 0.6545, -0.3440, -0.1146,  0.2254, -0.3805, -0.6129,  0.1419, -0.1990,\n",
              "            0.7360, -0.4673],\n",
              "          [-0.5640, -0.1238, -0.0217,  0.0452, -0.3511,  0.3133, -0.4877,  1.0936,\n",
              "           -0.1909,  0.2473],\n",
              "          [ 0.2780, -0.1097, -0.1540,  0.3550, -0.0410,  0.6641,  0.2219, -0.5170,\n",
              "           -0.6731, -0.2794],\n",
              "          [-0.2056,  0.8311, -0.3733, -0.3316, -0.4400,  0.1360,  0.2978,  0.3420,\n",
              "           -0.0743, -0.4521]])},\n",
              " {'layer1.bias': tensor([-0.1387, -0.0227,  0.0615,  0.1736,  0.1754, -0.1292,  0.0922,  0.2680,\n",
              "           0.2322,  0.0351]),\n",
              "  'layer1.weight': tensor([[ 0.0746, -0.0058, -0.0142,  ..., -0.0057, -0.0086,  0.0088],\n",
              "          [ 0.0329, -0.0022,  0.0045,  ..., -0.0040,  0.0081,  0.0008],\n",
              "          [ 0.0110,  0.0097,  0.0170,  ..., -0.0088,  0.0118,  0.0139],\n",
              "          ...,\n",
              "          [ 0.0433,  0.0107, -0.0475,  ..., -0.0462, -0.0080,  0.0292],\n",
              "          [-0.0064, -0.0125,  0.0052,  ..., -0.0002,  0.0033,  0.0004],\n",
              "          [ 0.0369, -0.0262, -0.0328,  ..., -0.0151, -0.0153,  0.0240]]),\n",
              "  'layer2.bias': tensor([-0.0949,  0.0970, -0.0758, -0.0752,  0.0919,  0.1626,  0.0255,  0.0670,\n",
              "          -0.2408,  0.0102]),\n",
              "  'layer2.weight': tensor([[ 6.4407e-01,  6.5775e-02, -2.7538e-01, -5.4278e-01,  6.4908e-01,\n",
              "           -8.2504e-02, -6.2664e-01,  1.5094e-01, -2.5186e-01, -1.2955e-01],\n",
              "          [-6.3361e-01, -2.4279e-03,  6.6728e-01,  7.8766e-01, -2.4873e-01,\n",
              "           -2.5554e-01, -3.2960e-01, -2.9495e-01,  2.4216e-01, -2.4630e-01],\n",
              "          [ 4.3379e-01,  9.4591e-02, -1.4478e-01,  4.0590e-01, -1.1452e-01,\n",
              "           -4.6902e-01, -1.6609e-01, -7.1819e-02, -3.0976e-01,  9.7565e-01],\n",
              "          [-2.2885e-01,  1.9795e-01,  4.5831e-01, -4.9330e-01, -2.7923e-02,\n",
              "            4.4201e-01, -3.0638e-01, -2.9188e-01,  3.6097e-01,  7.4698e-01],\n",
              "          [ 2.7644e-02, -4.2989e-01,  2.9969e-01, -4.2170e-01, -3.6957e-01,\n",
              "           -3.1871e-01,  1.0474e+00,  1.9528e-01, -1.6477e-01, -2.0849e-01],\n",
              "          [-3.7796e-01, -3.6453e-01, -3.5558e-01, -3.7991e-02,  8.9561e-01,\n",
              "            1.1640e-01,  2.7082e-01, -2.1054e-01,  3.1836e-01, -5.8204e-04],\n",
              "          [ 7.1501e-01, -3.8534e-01, -1.4699e-01,  2.0065e-01, -3.1208e-01,\n",
              "           -5.2627e-01,  1.1636e-01, -1.9747e-01,  6.7029e-01, -4.4669e-01],\n",
              "          [-5.6062e-01, -8.7929e-02,  6.2936e-04,  5.9192e-02, -2.9717e-01,\n",
              "            1.9472e-01, -3.8473e-01,  1.1686e+00, -1.7593e-01,  2.1155e-01],\n",
              "          [ 2.3476e-01, -1.9143e-02, -6.0934e-02,  3.0234e-01, -7.3569e-02,\n",
              "            6.8861e-01,  2.0671e-01, -5.1669e-01, -5.8692e-01, -3.0831e-01],\n",
              "          [-2.2535e-01,  8.1979e-01, -2.7534e-01, -3.1001e-01, -4.8810e-01,\n",
              "            7.3209e-02,  3.4318e-01,  3.2722e-01,  1.4484e-01, -4.5865e-01]])},\n",
              " {'layer1.bias': tensor([-0.1344,  0.0164,  0.0894,  0.1140,  0.1685, -0.0702,  0.1120,  0.2294,\n",
              "           0.2413,  0.0212]),\n",
              "  'layer1.weight': tensor([[ 0.0314, -0.0089, -0.0200,  ..., -0.0010,  0.0217, -0.0199],\n",
              "          [ 0.0315, -0.0011,  0.0030,  ..., -0.0050,  0.0129,  0.0031],\n",
              "          [ 0.0004,  0.0187,  0.0169,  ..., -0.0016,  0.0179,  0.0129],\n",
              "          ...,\n",
              "          [ 0.0140, -0.0001, -0.0761,  ..., -0.0692, -0.0228,  0.0068],\n",
              "          [-0.0102, -0.0163,  0.0129,  ..., -0.0063, -0.0056, -0.0201],\n",
              "          [ 0.0214, -0.0115, -0.0283,  ...,  0.0007, -0.0226,  0.0117]]),\n",
              "  'layer2.bias': tensor([-0.0757,  0.1686, -0.0634, -0.0354,  0.0310,  0.1686,  0.0139,  0.0732,\n",
              "          -0.2383,  0.0133]),\n",
              "  'layer2.weight': tensor([[ 0.7264, -0.1553, -0.1722, -0.5555,  0.5599, -0.1111, -0.6260,  0.1800,\n",
              "           -0.1986, -0.1533],\n",
              "          [-0.6319,  0.1181,  0.6032,  0.7954, -0.1099, -0.1270, -0.3354, -0.3187,\n",
              "            0.1907, -0.2970],\n",
              "          [ 0.4016,  0.0700, -0.0568,  0.3737, -0.1002, -0.5076, -0.1545, -0.0216,\n",
              "           -0.2749,  0.9167],\n",
              "          [-0.2224,  0.2394,  0.3965, -0.4539, -0.0100,  0.4938, -0.2857, -0.4095,\n",
              "            0.3084,  0.7916],\n",
              "          [-0.0998, -0.4111,  0.2982, -0.4149, -0.3762, -0.3263,  1.0014,  0.2301,\n",
              "           -0.1728, -0.2219],\n",
              "          [-0.3140, -0.3787, -0.3798, -0.0549,  0.9844,  0.0644,  0.3092, -0.1931,\n",
              "            0.3125, -0.0373],\n",
              "          [ 0.6535, -0.3617, -0.1014,  0.1863, -0.3434, -0.5851,  0.1677, -0.1899,\n",
              "            0.7004, -0.4577],\n",
              "          [-0.5613, -0.1033, -0.0406,  0.0687, -0.2971,  0.2520, -0.4669,  1.1172,\n",
              "           -0.1753,  0.2447],\n",
              "          [ 0.2745, -0.1130, -0.1787,  0.3679, -0.0251,  0.6382,  0.2814, -0.4793,\n",
              "           -0.6194, -0.2821],\n",
              "          [-0.1718,  0.8275, -0.3243, -0.4315, -0.4142,  0.1142,  0.3046,  0.3434,\n",
              "           -0.0177, -0.4431]])},\n",
              " {'layer1.bias': tensor([-0.0821, -0.0236,  0.0653,  0.1211,  0.2037, -0.0985,  0.1400,  0.2165,\n",
              "           0.1906, -0.0045]),\n",
              "  'layer1.weight': tensor([[ 0.0457, -0.0040, -0.0163,  ..., -0.0117,  0.0109, -0.0305],\n",
              "          [ 0.0332, -0.0012,  0.0035,  ...,  0.0029,  0.0072,  0.0013],\n",
              "          [-0.0009,  0.0082,  0.0117,  ...,  0.0024,  0.0132,  0.0143],\n",
              "          ...,\n",
              "          [ 0.0210,  0.0264, -0.0561,  ..., -0.0312, -0.0086,  0.0708],\n",
              "          [-0.0188,  0.0117,  0.0162,  ...,  0.0017, -0.0241, -0.0049],\n",
              "          [-0.0015, -0.0143, -0.0059,  ...,  0.0353, -0.0302,  0.0511]]),\n",
              "  'layer2.bias': tensor([-0.0795,  0.1516, -0.0825, -0.0531,  0.0181,  0.1880, -0.0169,  0.0773,\n",
              "          -0.2322, -0.0194]),\n",
              "  'layer2.weight': tensor([[ 6.5258e-01,  2.9825e-02, -2.0286e-01, -5.4448e-01,  6.9365e-01,\n",
              "           -1.0240e-01, -6.1354e-01,  1.2442e-01, -2.6136e-01, -1.9868e-01],\n",
              "          [-5.9457e-01,  3.5678e-02,  6.3846e-01,  7.7586e-01, -2.1248e-01,\n",
              "           -2.6853e-01, -2.8483e-01, -2.7330e-01,  2.0501e-01, -2.5848e-01],\n",
              "          [ 4.4020e-01,  6.8426e-02, -2.1944e-01,  3.8501e-01, -8.0741e-02,\n",
              "           -4.4011e-01, -2.4076e-01,  1.5629e-03, -2.8853e-01,  9.1585e-01],\n",
              "          [-2.2493e-01,  2.1902e-01,  4.5685e-01, -4.9273e-01, -1.8207e-02,\n",
              "            4.3144e-01, -3.0249e-01, -2.6585e-01,  3.9732e-01,  7.2462e-01],\n",
              "          [-4.6680e-03, -4.3444e-01,  2.1630e-01, -4.0788e-01, -3.5123e-01,\n",
              "           -3.6082e-01,  1.0318e+00,  1.7210e-01, -1.8188e-01, -2.1423e-01],\n",
              "          [-4.0834e-01, -3.3929e-01, -3.8520e-01, -2.2983e-02,  9.5102e-01,\n",
              "            1.4005e-01,  2.9308e-01, -2.8920e-01,  3.3396e-01, -4.2793e-02],\n",
              "          [ 7.8909e-01, -4.0157e-01, -1.4814e-01,  2.1198e-01, -2.9142e-01,\n",
              "           -4.8960e-01,  1.5138e-02, -1.8323e-01,  6.2776e-01, -4.2569e-01],\n",
              "          [-5.2210e-01, -8.4614e-02,  3.7248e-04,  6.8337e-02, -2.9350e-01,\n",
              "            1.8501e-01, -4.1392e-01,  1.1773e+00, -1.7010e-01,  2.0803e-01],\n",
              "          [ 1.5607e-01, -1.3096e-02, -9.0009e-02,  3.6793e-01, -3.8368e-02,\n",
              "            6.6032e-01,  2.3268e-01, -5.1391e-01, -6.3596e-01, -2.8553e-01],\n",
              "          [-1.6807e-01,  8.4395e-01, -3.1123e-01, -3.7195e-01, -4.2923e-01,\n",
              "            4.6052e-02,  2.9044e-01,  3.1891e-01,  9.2453e-02, -4.3389e-01]])},\n",
              " {'layer1.bias': tensor([-0.1309,  0.0283,  0.0631,  0.0719,  0.1752, -0.0729,  0.1337,  0.2506,\n",
              "           0.1897, -0.0124]),\n",
              "  'layer1.weight': tensor([[ 0.0002, -0.0360, -0.0319,  ...,  0.0050, -0.0046, -0.0286],\n",
              "          [ 0.0327,  0.0038,  0.0010,  ...,  0.0039,  0.0026,  0.0055],\n",
              "          [ 0.0082,  0.0087,  0.0048,  ...,  0.0043,  0.0090,  0.0041],\n",
              "          ...,\n",
              "          [ 0.0121,  0.0279, -0.0485,  ..., -0.0326, -0.0157,  0.0616],\n",
              "          [ 0.0004,  0.0118,  0.0141,  ...,  0.0046, -0.0207,  0.0030],\n",
              "          [-0.0032, -0.0208, -0.0193,  ..., -0.0008, -0.0207,  0.0410]]),\n",
              "  'layer2.bias': tensor([-0.1190,  0.1125, -0.0536, -0.0344, -0.0154,  0.1554,  0.1120,  0.0754,\n",
              "          -0.3062, -0.0451]),\n",
              "  'layer2.weight': tensor([[ 0.7232, -0.1776, -0.2126, -0.5790,  0.5481, -0.0891, -0.6578,  0.1311,\n",
              "           -0.1536, -0.1162],\n",
              "          [-0.6089,  0.2193,  0.5854,  0.8017, -0.0892, -0.1659, -0.3722, -0.3175,\n",
              "            0.1983, -0.3264],\n",
              "          [ 0.4220,  0.0680, -0.0881,  0.4116, -0.1196, -0.5998, -0.1769, -0.0384,\n",
              "           -0.2681,  0.9421],\n",
              "          [-0.1974,  0.2265,  0.4500, -0.4097, -0.0136,  0.4638, -0.3175, -0.3573,\n",
              "            0.3664,  0.7605],\n",
              "          [-0.1050, -0.3931,  0.3601, -0.3995, -0.3811, -0.3540,  1.0435,  0.1954,\n",
              "           -0.1603, -0.2244],\n",
              "          [-0.3752, -0.3574, -0.3777, -0.0502,  0.9556,  0.1505,  0.3249, -0.2606,\n",
              "            0.2895, -0.0581],\n",
              "          [ 0.6512, -0.3699, -0.0423,  0.2406, -0.3433, -0.5279,  0.0465, -0.1791,\n",
              "            0.6878, -0.4378],\n",
              "          [-0.5558, -0.0902,  0.0309,  0.1034, -0.3231,  0.2685, -0.5010,  1.1179,\n",
              "           -0.1344,  0.2447],\n",
              "          [ 0.3042, -0.1775, -0.1887,  0.3640, -0.0087,  0.6363,  0.2390, -0.5174,\n",
              "           -0.6424, -0.2813],\n",
              "          [-0.1539,  0.8483, -0.3299, -0.4212, -0.3737,  0.1028,  0.2349,  0.3079,\n",
              "           -0.0261, -0.4000]])},\n",
              " {'layer1.bias': tensor([-0.1404, -0.0097,  0.1084,  0.0713,  0.1818, -0.1302,  0.1414,  0.2505,\n",
              "           0.1803, -0.0443]),\n",
              "  'layer1.weight': tensor([[ 0.0012,  0.0252, -0.0213,  ...,  0.0166,  0.0480, -0.0375],\n",
              "          [ 0.0380,  0.0047,  0.0006,  ..., -0.0009, -0.0013,  0.0070],\n",
              "          [ 0.0045,  0.0045,  0.0039,  ...,  0.0088,  0.0139,  0.0102],\n",
              "          ...,\n",
              "          [ 0.0202,  0.0467, -0.0309,  ..., -0.0537, -0.0602,  0.0323],\n",
              "          [ 0.0267,  0.0398,  0.0120,  ...,  0.0027, -0.0085,  0.0136],\n",
              "          [-0.0451,  0.0138,  0.0054,  ...,  0.0011,  0.0128,  0.0176]]),\n",
              "  'layer2.bias': tensor([-0.0903,  0.1562, -0.0522, -0.0787,  0.0101,  0.2297,  0.0689,  0.0831,\n",
              "          -0.2650, -0.0640]),\n",
              "  'layer2.weight': tensor([[ 0.6944, -0.0635, -0.2421, -0.5723,  0.6054, -0.0283, -0.6446,  0.0733,\n",
              "           -0.2499, -0.1356],\n",
              "          [-0.5829,  0.0526,  0.6501,  0.7667, -0.2346, -0.3149, -0.2576, -0.2882,\n",
              "            0.2565, -0.2094],\n",
              "          [ 0.3823,  0.0525, -0.1605,  0.3907, -0.0917, -0.4150, -0.2092, -0.0654,\n",
              "           -0.2792,  0.9744],\n",
              "          [-0.1920,  0.2016,  0.5438, -0.4838, -0.0071,  0.4579, -0.3061, -0.2980,\n",
              "            0.3653,  0.7398],\n",
              "          [-0.0336, -0.4326,  0.2102, -0.4295, -0.3445, -0.3590,  1.0254,  0.1606,\n",
              "           -0.2042, -0.2074],\n",
              "          [-0.4147, -0.3144, -0.4164, -0.0233,  0.8942,  0.1501,  0.3133, -0.3340,\n",
              "            0.3604, -0.0812],\n",
              "          [ 0.7857, -0.4255, -0.1723,  0.1925, -0.3303, -0.4596, -0.0556, -0.1739,\n",
              "            0.5754, -0.4457],\n",
              "          [-0.5605, -0.0683,  0.0440,  0.0803, -0.2757,  0.1273, -0.4541,  1.1316,\n",
              "           -0.1706,  0.1908],\n",
              "          [ 0.2224, -0.0229, -0.1399,  0.3790, -0.0868,  0.7313,  0.2392, -0.4915,\n",
              "           -0.6088, -0.3120],\n",
              "          [-0.1205,  0.8424, -0.2886, -0.3531, -0.4744,  0.0555,  0.2763,  0.2766,\n",
              "            0.1011, -0.4016]])}]"
            ]
          },
          "metadata": {},
          "execution_count": 58
        }
      ]
    },
    {
      "cell_type": "code",
      "source": [
        "post_mean_dict = post_mean(fed_mod.saved_weights)"
      ],
      "metadata": {
        "id": "9yz1nB4K1gQL"
      },
      "execution_count": null,
      "outputs": []
    },
    {
      "cell_type": "code",
      "source": [
        "torch.save(fed_mod.central_model['model'], './model_no_processing')"
      ],
      "metadata": {
        "id": "rlVECc061gcD"
      },
      "execution_count": null,
      "outputs": []
    },
    {
      "cell_type": "code",
      "source": [
        "fed_mod.central_model['model'].load_state_dict(post_mean_dict)"
      ],
      "metadata": {
        "id": "cUN-QiS71gmk",
        "colab": {
          "base_uri": "https://localhost:8080/"
        },
        "outputId": "8492b32b-ccaf-49e1-a984-8d1cd7cd82f5"
      },
      "execution_count": null,
      "outputs": [
        {
          "output_type": "execute_result",
          "data": {
            "text/plain": [
              "<All keys matched successfully>"
            ]
          },
          "metadata": {},
          "execution_count": 61
        }
      ]
    },
    {
      "cell_type": "code",
      "source": [
        "test_losses, test_accuracies, test_overall_accuracy\\\n",
        ", raw_test_output, raw_test_labels = Test(fed_mod, data_test, device)\n",
        "print(test_overall_accuracy)"
      ],
      "metadata": {
        "id": "W7BJTj9d1_wr",
        "colab": {
          "base_uri": "https://localhost:8080/"
        },
        "outputId": "830dd92a-0028-46a6-a60b-bd24a48a5196"
      },
      "execution_count": null,
      "outputs": [
        {
          "output_type": "stream",
          "name": "stdout",
          "text": [
            "tensor(0.9119)\n"
          ]
        }
      ]
    },
    {
      "cell_type": "code",
      "source": [
        "np.mean(test_losses)"
      ],
      "metadata": {
        "id": "V_tK9yTPtkxY",
        "colab": {
          "base_uri": "https://localhost:8080/"
        },
        "outputId": "18ff4e29-63be-4525-9e43-21e1c85ea518"
      },
      "execution_count": null,
      "outputs": [
        {
          "output_type": "execute_result",
          "data": {
            "text/plain": [
              "0.3672176763415337"
            ]
          },
          "metadata": {},
          "execution_count": 63
        }
      ]
    },
    {
      "cell_type": "markdown",
      "source": [
        "# Calibration"
      ],
      "metadata": {
        "id": "5OqhB9Rc5hev"
      }
    },
    {
      "cell_type": "code",
      "source": [
        "def plot_reliability(outputs, targets, m_bins):\n",
        "  boundaries = [i*1/m_bins for i in range(1,1+m_bins)]\n",
        "  accuracy = [0 for e in range(m_bins)]\n",
        "  conf = [0 for e in range(m_bins)]\n",
        "  totals = [0 for e in range(m_bins)]\n",
        "\n",
        "  \n",
        "  y, y_ind = F.softmax(outputs, dim = 1).max(dim = 1)\n",
        "\n",
        "  correct = 1.0*(y_ind == targets)\n",
        "  for i, y_i in enumerate(y):\n",
        "    for j, edge in enumerate(boundaries):\n",
        "      if y[i] <= edge:\n",
        "        totals[j] += 1\n",
        "        accuracy[j] += correct[i].item()\n",
        "        conf[j] += y_i.item()\n",
        "        break\n",
        "\n",
        "  for i in range(len(totals)):\n",
        "    if totals[i] != 0:\n",
        "      accuracy[i] /= totals[i]\n",
        "      conf[i] /= totals[i]\n",
        "\n",
        "  \n",
        "  fig = plt.figure()\n",
        "  ax = fig.add_axes([0, 0, 1, 1])\n",
        "  edges = [1/m_bins*i for i in range(m_bins)]\n",
        "  accuracy = np.array(accuracy)\n",
        "  conf = np.array(conf)\n",
        "\n",
        "  diff = conf - accuracy\n",
        "  base = accuracy\n",
        "\n",
        "  ax.bar(edges, base, align = 'edge',\n",
        "         width = 1/m_bins, alpha = 1, color = '#2c6fbb', edgecolor = 'black',\n",
        "         linewidth = 0.1, label = \"outputs\")\n",
        "  \n",
        "  ax.bar(edges, diff, bottom = base, align = 'edge', width = 1/m_bins, color = \"red\",\n",
        "         edgecolor= \"red\", alpha = .5, linewidth = 1, hatch = \"/\", label = \"gap\")\n",
        "  \n",
        "  ax.plot([0,1],[0, 1], \"--\", alpha = 0.6, linewidth = 3, c = \"black\")\n",
        "\n",
        "  ax.legend()\n",
        "\n",
        "  ECE = 1.0/sum(totals)*sum(totals[i]*abs(accuracy[i]-conf[i])\\\n",
        "                                  for i in range(m_bins))\n",
        "  \n",
        "  ax.set_title('Reliability Diagram with ECE {:.3f}'.format(ECE))\n",
        "  plt.plot()\n",
        "\n",
        "  return accuracy, conf, totals, ECE"
      ],
      "metadata": {
        "id": "rlpcm4b15oEE"
      },
      "execution_count": null,
      "outputs": []
    },
    {
      "cell_type": "code",
      "source": [
        "m_bins = len(MNIST.classes)\n",
        "acc, conf, total, ECE = plot_reliability(raw_test_output, raw_test_labels, m_bins)"
      ],
      "metadata": {
        "id": "XeUVXLBf5oJl",
        "colab": {
          "base_uri": "https://localhost:8080/",
          "height": 352
        },
        "outputId": "6e1dccbc-20e2-42e6-afdb-fb1f69bbbb86"
      },
      "execution_count": null,
      "outputs": [
        {
          "output_type": "display_data",
          "data": {
            "text/plain": [
              "<Figure size 432x288 with 1 Axes>"
            ],
            "image/png": "[encoded data removed]"
          },
          "metadata": {
            "needs_background": "light"
          }
        }
      ]
    },
    {
      "cell_type": "markdown",
      "source": [
        "# Out of Sample Test"
      ],
      "metadata": {
        "id": "6uXGsCI-yLOn"
      }
    },
    {
      "cell_type": "code",
      "source": [
        "test_losses_oos, test_accuracies_oos, test_overall_accuracy_oos\\\n",
        ", raw_test_output_oos, raw_test_labels_oos = Test(fed_mod, data_test_oos, device)\n",
        "print(test_overall_accuracy_oos)"
      ],
      "metadata": {
        "id": "w8rtTbELyFhY",
        "colab": {
          "base_uri": "https://localhost:8080/"
        },
        "outputId": "d41a5062-0d1d-42d5-d298-97f94dc05cd3"
      },
      "execution_count": null,
      "outputs": [
        {
          "output_type": "stream",
          "name": "stdout",
          "text": [
            "tensor(0.0965)\n"
          ]
        }
      ]
    },
    {
      "cell_type": "code",
      "source": [
        "acc, conf, total, ECE = plot_reliability(raw_test_output_oos, raw_test_labels_oos, m_bins)"
      ],
      "metadata": {
        "id": "ZZy62gxPyVxh",
        "colab": {
          "base_uri": "https://localhost:8080/",
          "height": 54
        },
        "outputId": "432c3f26-8b59-462b-f4ab-deaa1dfb423b"
      },
      "execution_count": null,
      "outputs": [
        {
          "output_type": "display_data",
          "data": {
            "text/plain": [
              "<Figure size 432x288 with 1 Axes>"
            ],
            "image/png": "[encoded data removed]"
          },
          "metadata": {
            "needs_background": "light"
          }
        }
      ]
    }
  ]
}